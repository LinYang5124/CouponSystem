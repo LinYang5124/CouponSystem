{
 "cells": [
  {
   "cell_type": "code",
   "execution_count": 1,
   "id": "2dcf7a5b",
   "metadata": {},
   "outputs": [],
   "source": [
    "#pip install pymssql"
   ]
  },
  {
   "cell_type": "code",
   "execution_count": 1,
   "id": "a7356644",
   "metadata": {},
   "outputs": [],
   "source": [
    "import pandas as pd\n",
    "import pymssql\n",
    "from sqlalchemy import create_engine"
   ]
  },
  {
   "cell_type": "code",
   "execution_count": 2,
   "id": "926e3e54",
   "metadata": {
    "code_folding": []
   },
   "outputs": [],
   "source": [
    "def connDatabase():\n",
    "    conn = pymssql.connect(\n",
    "        host='linyang5124.database.windows.net',\n",
    "        user='linyang',\n",
    "        password='Techlent2022',\n",
    "        database='lin',\n",
    "        charset='utf8'\n",
    "        )\n",
    "    cursor = conn.cursor(as_dict=True)\n",
    "    return cursor"
   ]
  },
  {
   "cell_type": "code",
   "execution_count": 3,
   "id": "0f55cdff",
   "metadata": {},
   "outputs": [],
   "source": [
    "cursor = connDatabase()"
   ]
  },
  {
   "cell_type": "code",
   "execution_count": 6,
   "id": "e0eb4a11",
   "metadata": {
    "code_folding": []
   },
   "outputs": [],
   "source": [
    "def checkRedeemStatus(trains):\n",
    "    for i in range(len(trains)):\n",
    "        train = trains.iloc[i]\n",
    "        sql_1 = 'select * from coupon_item_mapping where coupon_id={0}'.format(train['coupon_id'])\n",
    "        print(sql_1)\n",
    "\n",
    "        cursor.execute(sql_1)\n",
    "        results = cursor.fetchall()\n",
    "        items = pd.DataFrame(data = results)\n",
    "        item_ids = ''\n",
    "        for item in items['item_id']:\n",
    "            item_ids = item_ids + str(item) + ','\n",
    "        item_ids = item_ids.strip(',')\n",
    "        sql_2 = 'select * from customer_transaction_data where item_id in ({0})'.format(item_ids)\n",
    "        print(sql_2)\n",
    "\n",
    "        sql_3 = 'select * from campaign_data where campaign_id={0}'.format(train['campaign_id'])\n",
    "        cursor.execute(sql_3)\n",
    "        results = cursor.fetchall()\n",
    "        campaign = pd.DataFrame(data = results)\n",
    "        start_date = campaign.iloc[0]['start_date']\n",
    "        end_date = campaign.iloc[0]['end_date']\n",
    "\n",
    "        sql_4 = 'select * from customer_transaction_data \\\n",
    "                    where item_id in ({0}) and date>=\\'{1}\\' \\\n",
    "                    and date<=\\'{2}\\' and customer_id={3}'.format(item_ids, start_date, end_date, train['customer_id'])\n",
    "        print(sql_4)\n",
    "        cursor.execute(sql_4)\n",
    "        results = cursor.fetchall()\n",
    "        transaction = pd.DataFrame(data = results)\n",
    "        if len(transaction)==0: \n",
    "            redemption_status = False\n",
    "        else:\n",
    "            if sum(transaction['coupon_discount']) < 0:\n",
    "                   redemption_status = True\n",
    "            else:\n",
    "                   redemption_status = False\n",
    "\n",
    "        if redemption_status == train['redemption_status']:\n",
    "            print('id:{0}, campaign_id:{1}, coupon_id:{2}, customer_id:{3}, redemption_status:{4} is matched.'.\n",
    "                  format(train['id'],train['campaign_id'],train['coupon_id'],train['customer_id'], train['redemption_status']))     \n",
    "        else:\n",
    "            print('******id:{0}, campaign_id:{1}, coupon_id:{2}, customer_id:{3}, redemption_status:{4} is NOT matched.'.\n",
    "                  format(train['id'],train['campaign_id'],train['coupon_id'],train['customer_id'], train['redemption_status']))       "
   ]
  },
  {
   "cell_type": "code",
   "execution_count": null,
   "id": "b618f71c",
   "metadata": {},
   "outputs": [],
   "source": []
  },
  {
   "cell_type": "code",
   "execution_count": 7,
   "id": "594bdf2b",
   "metadata": {},
   "outputs": [
    {
     "name": "stdout",
     "output_type": "stream",
     "text": [
      "select * from coupon_item_mapping where coupon_id=413\n",
      "select * from customer_transaction_data where item_id in (37212,24453,5977,56675,43462,56404,56554,56406,56407,65741,65765,31642,8792)\n",
      "select * from customer_transaction_data                     where item_id in (37212,24453,5977,56675,43462,56404,56554,56406,56407,65741,65765,31642,8792) and date>='2013-05-19'                     and date<='2013-07-05' and customer_id=276\n",
      "id:72, campaign_id:13, coupon_id:413, customer_id:276, redemption_status:True is matched.\n"
     ]
    }
   ],
   "source": [
    "#sql_0 = 'select top 10 * from train order by redemption_status desc'\n",
    "sql_0 = 'select top 1 * from train where redemption_status=1'\n",
    "cursor.execute(sql_0)\n",
    "results = cursor.fetchall()\n",
    "trains = pd.DataFrame(data = results)\n",
    "\n",
    "checkRedeemStatus(trains)"
   ]
  },
  {
   "cell_type": "code",
   "execution_count": null,
   "id": "4d7b9288",
   "metadata": {},
   "outputs": [],
   "source": []
  },
  {
   "cell_type": "code",
   "execution_count": null,
   "id": "5cad1171",
   "metadata": {},
   "outputs": [],
   "source": []
  }
 ],
 "metadata": {
  "kernelspec": {
   "display_name": "Python 3",
   "language": "python",
   "name": "python3"
  },
  "language_info": {
   "codemirror_mode": {
    "name": "ipython",
    "version": 3
   },
   "file_extension": ".py",
   "mimetype": "text/x-python",
   "name": "python",
   "nbconvert_exporter": "python",
   "pygments_lexer": "ipython3",
   "version": "3.8.8"
  }
 },
 "nbformat": 4,
 "nbformat_minor": 5
}
