{
 "cells": [
  {
   "cell_type": "code",
   "execution_count": 42,
   "id": "39b352a9",
   "metadata": {},
   "outputs": [],
   "source": [
    "import pandas as pd"
   ]
  },
  {
   "cell_type": "code",
   "execution_count": 43,
   "id": "b195d180",
   "metadata": {},
   "outputs": [
    {
     "data": {
      "text/plain": [
       "<pandas.io.parsers.TextFileReader at 0x1e932e04220>"
      ]
     },
     "execution_count": 43,
     "metadata": {},
     "output_type": "execute_result"
    }
   ],
   "source": [
    "merge_dt_1 = pd.read_csv('../Data/transactionByCustomerAndItem_22.csv',iterator = True ) \n",
    "merge_dt_1"
   ]
  },
  {
   "cell_type": "code",
   "execution_count": 45,
   "id": "9ae7d970",
   "metadata": {},
   "outputs": [],
   "source": [
    "merge_data_1 = merge_dt_1.get_chunk(240000)"
   ]
  },
  {
   "cell_type": "code",
   "execution_count": 46,
   "id": "7121f8f6",
   "metadata": {},
   "outputs": [
    {
     "data": {
      "text/plain": [
       "customer_id        204637\n",
       "item_id            204637\n",
       "quantity           204637\n",
       "selling_price      204637\n",
       "other_discount     204637\n",
       "coupon_discount    204637\n",
       "age_range          204637\n",
       "marital_status     119707\n",
       "rented             204637\n",
       "family_size        204637\n",
       "no_of_children      73958\n",
       "income_bracket     204637\n",
       "brand              204637\n",
       "brand_type         204637\n",
       "category           204637\n",
       "Unnamed: 15          3033\n",
       "dtype: int64"
      ]
     },
     "execution_count": 46,
     "metadata": {},
     "output_type": "execute_result"
    }
   ],
   "source": [
    "merge_data_1.count()"
   ]
  },
  {
   "cell_type": "code",
   "execution_count": 47,
   "id": "443343ae",
   "metadata": {},
   "outputs": [
    {
     "data": {
      "text/html": [
       "<div>\n",
       "<style scoped>\n",
       "    .dataframe tbody tr th:only-of-type {\n",
       "        vertical-align: middle;\n",
       "    }\n",
       "\n",
       "    .dataframe tbody tr th {\n",
       "        vertical-align: top;\n",
       "    }\n",
       "\n",
       "    .dataframe thead th {\n",
       "        text-align: right;\n",
       "    }\n",
       "</style>\n",
       "<table border=\"1\" class=\"dataframe\">\n",
       "  <thead>\n",
       "    <tr style=\"text-align: right;\">\n",
       "      <th></th>\n",
       "      <th>customer_id</th>\n",
       "      <th>item_id</th>\n",
       "      <th>quantity</th>\n",
       "      <th>selling_price</th>\n",
       "      <th>other_discount</th>\n",
       "      <th>coupon_discount</th>\n",
       "      <th>age_range</th>\n",
       "      <th>marital_status</th>\n",
       "      <th>rented</th>\n",
       "      <th>family_size</th>\n",
       "      <th>no_of_children</th>\n",
       "      <th>income_bracket</th>\n",
       "      <th>brand</th>\n",
       "      <th>brand_type</th>\n",
       "      <th>category</th>\n",
       "      <th>Unnamed: 15</th>\n",
       "    </tr>\n",
       "  </thead>\n",
       "  <tbody>\n",
       "    <tr>\n",
       "      <th>0</th>\n",
       "      <td>1</td>\n",
       "      <td>4315</td>\n",
       "      <td>1</td>\n",
       "      <td>201.97</td>\n",
       "      <td>0.00</td>\n",
       "      <td>0.0</td>\n",
       "      <td>70+</td>\n",
       "      <td>Married</td>\n",
       "      <td>0</td>\n",
       "      <td>2</td>\n",
       "      <td>NaN</td>\n",
       "      <td>4</td>\n",
       "      <td>2902</td>\n",
       "      <td>Established</td>\n",
       "      <td>Pharmaceutical</td>\n",
       "      <td>NaN</td>\n",
       "    </tr>\n",
       "    <tr>\n",
       "      <th>1</th>\n",
       "      <td>1</td>\n",
       "      <td>4577</td>\n",
       "      <td>2</td>\n",
       "      <td>120.40</td>\n",
       "      <td>0.00</td>\n",
       "      <td>0.0</td>\n",
       "      <td>70+</td>\n",
       "      <td>Married</td>\n",
       "      <td>0</td>\n",
       "      <td>2</td>\n",
       "      <td>NaN</td>\n",
       "      <td>4</td>\n",
       "      <td>115</td>\n",
       "      <td>Established</td>\n",
       "      <td>Grocery</td>\n",
       "      <td>NaN</td>\n",
       "    </tr>\n",
       "    <tr>\n",
       "      <th>2</th>\n",
       "      <td>1</td>\n",
       "      <td>4796</td>\n",
       "      <td>1</td>\n",
       "      <td>106.50</td>\n",
       "      <td>0.00</td>\n",
       "      <td>0.0</td>\n",
       "      <td>70+</td>\n",
       "      <td>Married</td>\n",
       "      <td>0</td>\n",
       "      <td>2</td>\n",
       "      <td>NaN</td>\n",
       "      <td>4</td>\n",
       "      <td>278</td>\n",
       "      <td>Established</td>\n",
       "      <td>Grocery</td>\n",
       "      <td>NaN</td>\n",
       "    </tr>\n",
       "    <tr>\n",
       "      <th>3</th>\n",
       "      <td>1</td>\n",
       "      <td>4953</td>\n",
       "      <td>4</td>\n",
       "      <td>426.72</td>\n",
       "      <td>-141.77</td>\n",
       "      <td>0.0</td>\n",
       "      <td>70+</td>\n",
       "      <td>Married</td>\n",
       "      <td>0</td>\n",
       "      <td>2</td>\n",
       "      <td>NaN</td>\n",
       "      <td>4</td>\n",
       "      <td>1061</td>\n",
       "      <td>Established</td>\n",
       "      <td>Grocery</td>\n",
       "      <td>NaN</td>\n",
       "    </tr>\n",
       "    <tr>\n",
       "      <th>4</th>\n",
       "      <td>1</td>\n",
       "      <td>5126</td>\n",
       "      <td>2</td>\n",
       "      <td>191.64</td>\n",
       "      <td>0.00</td>\n",
       "      <td>0.0</td>\n",
       "      <td>70+</td>\n",
       "      <td>Married</td>\n",
       "      <td>0</td>\n",
       "      <td>2</td>\n",
       "      <td>NaN</td>\n",
       "      <td>4</td>\n",
       "      <td>119</td>\n",
       "      <td>Established</td>\n",
       "      <td>Grocery</td>\n",
       "      <td>NaN</td>\n",
       "    </tr>\n",
       "  </tbody>\n",
       "</table>\n",
       "</div>"
      ],
      "text/plain": [
       "   customer_id  item_id  quantity  selling_price  other_discount  \\\n",
       "0            1     4315         1         201.97            0.00   \n",
       "1            1     4577         2         120.40            0.00   \n",
       "2            1     4796         1         106.50            0.00   \n",
       "3            1     4953         4         426.72         -141.77   \n",
       "4            1     5126         2         191.64            0.00   \n",
       "\n",
       "   coupon_discount age_range marital_status  rented family_size  \\\n",
       "0              0.0       70+        Married       0           2   \n",
       "1              0.0       70+        Married       0           2   \n",
       "2              0.0       70+        Married       0           2   \n",
       "3              0.0       70+        Married       0           2   \n",
       "4              0.0       70+        Married       0           2   \n",
       "\n",
       "  no_of_children  income_bracket  brand   brand_type        category  \\\n",
       "0            NaN               4   2902  Established  Pharmaceutical   \n",
       "1            NaN               4    115  Established         Grocery   \n",
       "2            NaN               4    278  Established         Grocery   \n",
       "3            NaN               4   1061  Established         Grocery   \n",
       "4            NaN               4    119  Established         Grocery   \n",
       "\n",
       "  Unnamed: 15  \n",
       "0         NaN  \n",
       "1         NaN  \n",
       "2         NaN  \n",
       "3         NaN  \n",
       "4         NaN  "
      ]
     },
     "execution_count": 47,
     "metadata": {},
     "output_type": "execute_result"
    }
   ],
   "source": [
    "merge_data_1.head()"
   ]
  },
  {
   "cell_type": "code",
   "execution_count": null,
   "id": "0861382e",
   "metadata": {},
   "outputs": [],
   "source": []
  },
  {
   "cell_type": "code",
   "execution_count": null,
   "id": "13ab6921",
   "metadata": {},
   "outputs": [],
   "source": []
  },
  {
   "cell_type": "code",
   "execution_count": 53,
   "id": "a1612aaa",
   "metadata": {},
   "outputs": [
    {
     "data": {
      "text/plain": [
       "<pandas.io.parsers.TextFileReader at 0x1e9326ad7f0>"
      ]
     },
     "execution_count": 53,
     "metadata": {},
     "output_type": "execute_result"
    }
   ],
   "source": [
    "merge_dt_2 = pd.read_csv('../Data/transactionByCustomerAndItem_23.csv',iterator = True ) \n",
    "merge_dt_2"
   ]
  },
  {
   "cell_type": "code",
   "execution_count": 54,
   "id": "233da9e6",
   "metadata": {},
   "outputs": [],
   "source": [
    "merge_data_2 = merge_dt_2.get_chunk(270000)"
   ]
  },
  {
   "cell_type": "code",
   "execution_count": 55,
   "id": "8480bd7e",
   "metadata": {},
   "outputs": [
    {
     "data": {
      "text/plain": [
       "customer_id        247258\n",
       "item_id            247258\n",
       "quantity           247258\n",
       "selling_price      247258\n",
       "other_discount     247258\n",
       "coupon_discount    247258\n",
       "age_range          247258\n",
       "marital_status     143753\n",
       "rented             247258\n",
       "family_size        247258\n",
       "no_of_children      78663\n",
       "income_bracket     247258\n",
       "brand              247258\n",
       "brand_type         247258\n",
       "category           247258\n",
       "Unnamed: 15          4163\n",
       "dtype: int64"
      ]
     },
     "execution_count": 55,
     "metadata": {},
     "output_type": "execute_result"
    }
   ],
   "source": [
    "merge_data_2.count()"
   ]
  },
  {
   "cell_type": "code",
   "execution_count": 56,
   "id": "27df645a",
   "metadata": {},
   "outputs": [
    {
     "data": {
      "text/html": [
       "<div>\n",
       "<style scoped>\n",
       "    .dataframe tbody tr th:only-of-type {\n",
       "        vertical-align: middle;\n",
       "    }\n",
       "\n",
       "    .dataframe tbody tr th {\n",
       "        vertical-align: top;\n",
       "    }\n",
       "\n",
       "    .dataframe thead th {\n",
       "        text-align: right;\n",
       "    }\n",
       "</style>\n",
       "<table border=\"1\" class=\"dataframe\">\n",
       "  <thead>\n",
       "    <tr style=\"text-align: right;\">\n",
       "      <th></th>\n",
       "      <th>customer_id</th>\n",
       "      <th>item_id</th>\n",
       "      <th>quantity</th>\n",
       "      <th>selling_price</th>\n",
       "      <th>other_discount</th>\n",
       "      <th>coupon_discount</th>\n",
       "      <th>age_range</th>\n",
       "      <th>marital_status</th>\n",
       "      <th>rented</th>\n",
       "      <th>family_size</th>\n",
       "      <th>no_of_children</th>\n",
       "      <th>income_bracket</th>\n",
       "      <th>brand</th>\n",
       "      <th>brand_type</th>\n",
       "      <th>category</th>\n",
       "      <th>Unnamed: 15</th>\n",
       "    </tr>\n",
       "  </thead>\n",
       "  <tbody>\n",
       "    <tr>\n",
       "      <th>0</th>\n",
       "      <td>737</td>\n",
       "      <td>4313</td>\n",
       "      <td>1</td>\n",
       "      <td>59.84</td>\n",
       "      <td>0.0</td>\n",
       "      <td>0.0</td>\n",
       "      <td>36-45</td>\n",
       "      <td>Single</td>\n",
       "      <td>0</td>\n",
       "      <td>4</td>\n",
       "      <td>3+</td>\n",
       "      <td>4</td>\n",
       "      <td>676</td>\n",
       "      <td>Established</td>\n",
       "      <td>Grocery</td>\n",
       "      <td>NaN</td>\n",
       "    </tr>\n",
       "    <tr>\n",
       "      <th>1</th>\n",
       "      <td>737</td>\n",
       "      <td>4564</td>\n",
       "      <td>2</td>\n",
       "      <td>29.92</td>\n",
       "      <td>0.0</td>\n",
       "      <td>0.0</td>\n",
       "      <td>36-45</td>\n",
       "      <td>Single</td>\n",
       "      <td>0</td>\n",
       "      <td>4</td>\n",
       "      <td>3+</td>\n",
       "      <td>4</td>\n",
       "      <td>1149</td>\n",
       "      <td>Established</td>\n",
       "      <td>Pharmaceutical</td>\n",
       "      <td>NaN</td>\n",
       "    </tr>\n",
       "    <tr>\n",
       "      <th>2</th>\n",
       "      <td>737</td>\n",
       "      <td>4599</td>\n",
       "      <td>3</td>\n",
       "      <td>177.74</td>\n",
       "      <td>-62.7</td>\n",
       "      <td>0.0</td>\n",
       "      <td>36-45</td>\n",
       "      <td>Single</td>\n",
       "      <td>0</td>\n",
       "      <td>4</td>\n",
       "      <td>3+</td>\n",
       "      <td>4</td>\n",
       "      <td>967</td>\n",
       "      <td>Established</td>\n",
       "      <td>Grocery</td>\n",
       "      <td>NaN</td>\n",
       "    </tr>\n",
       "    <tr>\n",
       "      <th>3</th>\n",
       "      <td>737</td>\n",
       "      <td>4653</td>\n",
       "      <td>1</td>\n",
       "      <td>14.96</td>\n",
       "      <td>0.0</td>\n",
       "      <td>0.0</td>\n",
       "      <td>36-45</td>\n",
       "      <td>Single</td>\n",
       "      <td>0</td>\n",
       "      <td>4</td>\n",
       "      <td>3+</td>\n",
       "      <td>4</td>\n",
       "      <td>1149</td>\n",
       "      <td>Established</td>\n",
       "      <td>Pharmaceutical</td>\n",
       "      <td>NaN</td>\n",
       "    </tr>\n",
       "    <tr>\n",
       "      <th>4</th>\n",
       "      <td>737</td>\n",
       "      <td>4787</td>\n",
       "      <td>1</td>\n",
       "      <td>24.58</td>\n",
       "      <td>0.0</td>\n",
       "      <td>0.0</td>\n",
       "      <td>36-45</td>\n",
       "      <td>Single</td>\n",
       "      <td>0</td>\n",
       "      <td>4</td>\n",
       "      <td>3+</td>\n",
       "      <td>4</td>\n",
       "      <td>56</td>\n",
       "      <td>Local</td>\n",
       "      <td>Grocery</td>\n",
       "      <td>NaN</td>\n",
       "    </tr>\n",
       "  </tbody>\n",
       "</table>\n",
       "</div>"
      ],
      "text/plain": [
       "   customer_id  item_id  quantity  selling_price  other_discount  \\\n",
       "0          737     4313         1          59.84             0.0   \n",
       "1          737     4564         2          29.92             0.0   \n",
       "2          737     4599         3         177.74           -62.7   \n",
       "3          737     4653         1          14.96             0.0   \n",
       "4          737     4787         1          24.58             0.0   \n",
       "\n",
       "   coupon_discount age_range marital_status  rented family_size  \\\n",
       "0              0.0     36-45         Single       0           4   \n",
       "1              0.0     36-45         Single       0           4   \n",
       "2              0.0     36-45         Single       0           4   \n",
       "3              0.0     36-45         Single       0           4   \n",
       "4              0.0     36-45         Single       0           4   \n",
       "\n",
       "  no_of_children  income_bracket  brand   brand_type        category  \\\n",
       "0             3+               4    676  Established         Grocery   \n",
       "1             3+               4   1149  Established  Pharmaceutical   \n",
       "2             3+               4    967  Established         Grocery   \n",
       "3             3+               4   1149  Established  Pharmaceutical   \n",
       "4             3+               4     56        Local         Grocery   \n",
       "\n",
       "  Unnamed: 15  \n",
       "0         NaN  \n",
       "1         NaN  \n",
       "2         NaN  \n",
       "3         NaN  \n",
       "4         NaN  "
      ]
     },
     "execution_count": 56,
     "metadata": {},
     "output_type": "execute_result"
    }
   ],
   "source": [
    "merge_data_2.head()"
   ]
  },
  {
   "cell_type": "code",
   "execution_count": null,
   "id": "b0aecd89",
   "metadata": {},
   "outputs": [],
   "source": []
  },
  {
   "cell_type": "code",
   "execution_count": null,
   "id": "e9ff09e5",
   "metadata": {},
   "outputs": [],
   "source": []
  },
  {
   "cell_type": "code",
   "execution_count": 58,
   "id": "11369b6b",
   "metadata": {},
   "outputs": [],
   "source": [
    "merge = pd.concat([merge_data_1, merge_data_2], axis=0)"
   ]
  },
  {
   "cell_type": "code",
   "execution_count": 61,
   "id": "b9b7f9a4",
   "metadata": {},
   "outputs": [
    {
     "data": {
      "text/plain": [
       "customer_id        451895\n",
       "item_id            451895\n",
       "quantity           451895\n",
       "selling_price      451895\n",
       "other_discount     451895\n",
       "coupon_discount    451895\n",
       "age_range          451895\n",
       "marital_status     263460\n",
       "rented             451895\n",
       "family_size        451895\n",
       "no_of_children     152621\n",
       "income_bracket     451895\n",
       "brand              451895\n",
       "brand_type         451895\n",
       "category           451895\n",
       "Unnamed: 15          7196\n",
       "dtype: int64"
      ]
     },
     "execution_count": 61,
     "metadata": {},
     "output_type": "execute_result"
    }
   ],
   "source": [
    "merge.count()"
   ]
  },
  {
   "cell_type": "code",
   "execution_count": null,
   "id": "dab8cc2e",
   "metadata": {},
   "outputs": [],
   "source": []
  }
 ],
 "metadata": {
  "kernelspec": {
   "display_name": "Python 3",
   "language": "python",
   "name": "python3"
  },
  "language_info": {
   "codemirror_mode": {
    "name": "ipython",
    "version": 3
   },
   "file_extension": ".py",
   "mimetype": "text/x-python",
   "name": "python",
   "nbconvert_exporter": "python",
   "pygments_lexer": "ipython3",
   "version": "3.8.8"
  }
 },
 "nbformat": 4,
 "nbformat_minor": 5
}
