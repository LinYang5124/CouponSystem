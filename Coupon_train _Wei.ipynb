{
 "cells": [
  {
   "cell_type": "code",
   "execution_count": 1,
   "id": "799ced89",
   "metadata": {},
   "outputs": [],
   "source": [
    "import pandas as pd \n",
    "import matplotlib.pyplot as plt\n",
    "import seaborn as sns\n",
    "import numpy as np\n",
    "from pandas.tseries.holiday import USFederalHolidayCalendar as calendar\n",
    "from datetime import datetime\n",
    "from statsmodels.stats.outliers_influence import variance_inflation_factor as vif\n",
    "pd.options.mode.chained_assignment = None "
   ]
  },
  {
   "cell_type": "code",
   "execution_count": 2,
   "id": "d51fa35d",
   "metadata": {},
   "outputs": [],
   "source": [
    "train = pd.read_csv('D:/personal/Bootcamp/final project/coupon redemption/Coupon_Raw_Data/train_final.csv')"
   ]
  },
  {
   "cell_type": "code",
   "execution_count": 4,
   "id": "21d376a7",
   "metadata": {},
   "outputs": [
    {
     "data": {
      "text/plain": [
       "array(['Grocery', 'Pharmaceutical', 'Meat,Packaged Meat',\n",
       "       'Miscellaneous,Grocery',\n",
       "       'Packaged Meat,Miscellaneous,Prepared Food,Seafood,Grocery,Meat',\n",
       "       'Packaged Meat', 'Seafood,Packaged Meat', 'Prepared Food',\n",
       "       'Bakery',\n",
       "       'Miscellaneous,Seafood,Grocery,Bakery,Packaged Meat,Meat,Dairy, Juices & Snacks',\n",
       "       'Natural Products,Packaged Meat,Miscellaneous,Prepared Food,Salads,Seafood,Grocery,Meat',\n",
       "       'Seafood', 'Natural Products',\n",
       "       'Flowers & Plants,Vegetables (cut),Natural Products,Travel,Pharmaceutical,Packaged Meat,Miscellaneous,Salads,Prepared Food,Seafood,Bakery,Grocery,Garden,Dairy, Juices & Snacks',\n",
       "       'Dairy, Juices & Snacks', 'Skin & Hair Care,Pharmaceutical',\n",
       "       'Pharmaceutical,Grocery',\n",
       "       'Seafood,Grocery,Packaged Meat,Meat,Dairy, Juices & Snacks',\n",
       "       'Dairy, Juices & Snacks,Pharmaceutical',\n",
       "       'Natural Products,Pharmaceutical,Miscellaneous,Prepared Food,Grocery,Packaged Meat,Dairy, Juices & Snacks',\n",
       "       'Grocery,Packaged Meat', 'Flowers & Plants',\n",
       "       'Packaged Meat,Grocery', 'Meat',\n",
       "       'Pharmaceutical,Miscellaneous,Skin & Hair Care,Grocery,Meat,Dairy, Juices & Snacks',\n",
       "       'Dairy, Juices & Snacks,Grocery', 'Restauarant,Grocery',\n",
       "       'Flowers & Plants,Vegetables (cut),Natural Products,Travel,Packaged Meat,Pharmaceutical,Salads,Miscellaneous,Prepared Food,Seafood,Bakery,Grocery,Garden,Meat,Dairy, Juices & Snacks',\n",
       "       'Natural Products,Grocery',\n",
       "       'Natural Products,Pharmaceutical,Prepared Food,Grocery,Dairy, Juices & Snacks',\n",
       "       'Prepared Food,Grocery', 'Skin & Hair Care'], dtype=object)"
      ]
     },
     "execution_count": 4,
     "metadata": {},
     "output_type": "execute_result"
    }
   ],
   "source": [
    "train['category'].unique()"
   ]
  },
  {
   "cell_type": "code",
   "execution_count": 3,
   "id": "4ac892eb",
   "metadata": {},
   "outputs": [],
   "source": [
    "def CategoryTransformer(x):\n",
    "    if x in ['Dairy', 'Alcohol']:\n",
    "        x = 'Drink'\n",
    "    elif x in ['Bakery', 'Packaged Meat', 'Seafood', 'Prepared Food', 'Meat', 'Salads', 'Vegetables (cut)']:\n",
    "        x = 'Food'\n",
    "    elif x in ['Flowers & Plants', 'Garden']:\n",
    "        x = 'Garden'\n",
    "    elif x in ['Miscellaneous', 'Travel', 'Fuel', 'Restauarant']:\n",
    "        x = 'Miscellaneous'\n",
    "    elif x == ' Juices & Snacks':\n",
    "        x = None\n",
    "    return x"
   ]
  },
  {
   "cell_type": "code",
   "execution_count": 4,
   "id": "046b53b7",
   "metadata": {},
   "outputs": [],
   "source": [
    "category_1 = train['category'].str.split(',', expand=True)\n",
    "\n",
    "for i in range(len(category_1.columns)):\n",
    "    category_1[i] = category_1[i].map(CategoryTransformer)\n",
    "    \n",
    "category_1['combined'] = category_1[category_1.columns[:]].apply(\n",
    "lambda x: ','.join(x.dropna()), axis=1)\n",
    "\n",
    "category_1.drop(category_1.iloc[:, :16], axis=1, inplace=True)\n",
    "\n",
    "column_names = ['Grocery', 'Pharmaceutical', 'Food', 'Drink', 'Miscellaneous','Natural Products', 'Garden', 'Skin & Hair Care']\n",
    "category_zero = np.zeros(shape=(len(category_1), len(column_names)))\n",
    "category_2 = pd.DataFrame(category_zero, columns=column_names)\n",
    "for i in category_1.index:\n",
    "    x = category_1['combined'][i].split(',')\n",
    "    for j in x:\n",
    "        if j == 'Grocery':\n",
    "            category_2['Grocery'][i] += 1\n",
    "        elif j == 'Pharmaceutical':\n",
    "            category_2['Pharmaceutical'][i] += 1\n",
    "        elif j == 'Food':\n",
    "            category_2['Food'][i] += 1\n",
    "        elif j == 'Drink':\n",
    "            category_2['Drink'][i] += 1\n",
    "        elif j == 'Miscellaneous':\n",
    "            category_2['Miscellaneous'][i] += 1\n",
    "        elif j == 'Natural Products':\n",
    "            category_2['Natural Products'][i] += 1\n",
    "        elif j == 'Garden':\n",
    "            category_2['Garden'][i] += 1\n",
    "        else:\n",
    "            category_2['Skin & Hair Care'][i] += 1"
   ]
  },
  {
   "cell_type": "code",
   "execution_count": 5,
   "id": "e1306a07",
   "metadata": {},
   "outputs": [],
   "source": [
    "train_cat = pd.concat([train, category_2], axis=1, join='inner')"
   ]
  },
  {
   "cell_type": "code",
   "execution_count": 6,
   "id": "d5f71178",
   "metadata": {},
   "outputs": [],
   "source": [
    "train_cat_1 = pd.concat([train, category_2], axis=1, join='inner')"
   ]
  },
  {
   "cell_type": "code",
   "execution_count": 7,
   "id": "62d363d5",
   "metadata": {},
   "outputs": [],
   "source": [
    "train_cat.to_csv('D:/personal/Bootcamp/final project/coupon redemption/Coupon_Raw_Data/train_final_category.csv')"
   ]
  },
  {
   "cell_type": "code",
   "execution_count": 2,
   "id": "be35f8c7",
   "metadata": {},
   "outputs": [],
   "source": [
    "train_cat = pd.read_csv('D:/personal/Bootcamp/final project/coupon redemption/Coupon_Raw_Data/train_final_category.csv')"
   ]
  },
  {
   "cell_type": "code",
   "execution_count": 55,
   "id": "2234e3c8",
   "metadata": {},
   "outputs": [
    {
     "name": "stdout",
     "output_type": "stream",
     "text": [
      "<class 'pandas.core.frame.DataFrame'>\n",
      "RangeIndex: 78369 entries, 0 to 78368\n",
      "Data columns (total 28 columns):\n",
      " #   Column             Non-Null Count  Dtype  \n",
      "---  ------             --------------  -----  \n",
      " 0   age_range          78369 non-null  object \n",
      " 1   marital_status     78369 non-null  object \n",
      " 2   rented             78369 non-null  object \n",
      " 3   family_size        78369 non-null  object \n",
      " 4   no_of_children     78369 non-null  object \n",
      " 5   income_bracket     78369 non-null  object \n",
      " 6   cust_quantity      78369 non-null  int64  \n",
      " 7   cust_other_usage   78369 non-null  int64  \n",
      " 8   cust_coupon_usage  78369 non-null  int64  \n",
      " 9   camp_type          78369 non-null  object \n",
      " 10  camp_start_month   78369 non-null  int64  \n",
      " 11  camp_end_month     78369 non-null  int64  \n",
      " 12  camp_duration      78369 non-null  int64  \n",
      " 13  holiday_covered    78369 non-null  object \n",
      " 14  item_NO.           78369 non-null  int64  \n",
      " 15  brand_NO.          78369 non-null  int64  \n",
      " 16  brand_type         78369 non-null  object \n",
      " 17  category           78369 non-null  object \n",
      " 18  items_quantity     78369 non-null  int64  \n",
      " 19  redemption_status  78369 non-null  int64  \n",
      " 20  Grocery            78369 non-null  float64\n",
      " 21  Pharmaceutical     78369 non-null  float64\n",
      " 22  Food               78369 non-null  float64\n",
      " 23  Drink              78369 non-null  float64\n",
      " 24  Miscellaneous      78369 non-null  float64\n",
      " 25  Natural Products   78369 non-null  float64\n",
      " 26  Garden             78369 non-null  float64\n",
      " 27  Skin & Hair Care   78369 non-null  float64\n",
      "dtypes: float64(8), int64(10), object(10)\n",
      "memory usage: 16.7+ MB\n"
     ]
    }
   ],
   "source": [
    "train_cat.info()"
   ]
  },
  {
   "cell_type": "code",
   "execution_count": 8,
   "id": "a3596256",
   "metadata": {},
   "outputs": [],
   "source": [
    "train_cat.drop(axis=1, columns='category', inplace=True)"
   ]
  },
  {
   "cell_type": "code",
   "execution_count": 3,
   "id": "19f6bacf",
   "metadata": {},
   "outputs": [],
   "source": [
    "column_names = list(train_cat.columns[19:])\n",
    "for i in column_names:\n",
    "    train_cat[i] = train_cat[i].astype(int)"
   ]
  },
  {
   "cell_type": "code",
   "execution_count": 4,
   "id": "47755600",
   "metadata": {},
   "outputs": [
    {
     "name": "stdout",
     "output_type": "stream",
     "text": [
      "<class 'pandas.core.frame.DataFrame'>\n",
      "RangeIndex: 78369 entries, 0 to 78368\n",
      "Data columns (total 29 columns):\n",
      " #   Column             Non-Null Count  Dtype \n",
      "---  ------             --------------  ----- \n",
      " 0   Unnamed: 0         78369 non-null  int64 \n",
      " 1   age_range          78369 non-null  object\n",
      " 2   marital_status     78369 non-null  object\n",
      " 3   rented             78369 non-null  object\n",
      " 4   family_size        78369 non-null  object\n",
      " 5   no_of_children     78369 non-null  object\n",
      " 6   income_bracket     78369 non-null  object\n",
      " 7   cust_quantity      78369 non-null  int64 \n",
      " 8   cust_other_usage   78369 non-null  int64 \n",
      " 9   cust_coupon_usage  78369 non-null  int64 \n",
      " 10  camp_type          78369 non-null  object\n",
      " 11  camp_start_month   78369 non-null  int64 \n",
      " 12  camp_end_month     78369 non-null  int64 \n",
      " 13  camp_duration      78369 non-null  int64 \n",
      " 14  holiday_covered    78369 non-null  object\n",
      " 15  item_NO.           78369 non-null  int64 \n",
      " 16  brand_NO.          78369 non-null  int64 \n",
      " 17  brand_type         78369 non-null  object\n",
      " 18  category           78369 non-null  object\n",
      " 19  items_quantity     78369 non-null  int32 \n",
      " 20  redemption_status  78369 non-null  int32 \n",
      " 21  Grocery            78369 non-null  int32 \n",
      " 22  Pharmaceutical     78369 non-null  int32 \n",
      " 23  Food               78369 non-null  int32 \n",
      " 24  Drink              78369 non-null  int32 \n",
      " 25  Miscellaneous      78369 non-null  int32 \n",
      " 26  Natural Products   78369 non-null  int32 \n",
      " 27  Garden             78369 non-null  int32 \n",
      " 28  Skin & Hair Care   78369 non-null  int32 \n",
      "dtypes: int32(10), int64(9), object(10)\n",
      "memory usage: 14.3+ MB\n"
     ]
    }
   ],
   "source": [
    "train_cat.info()"
   ]
  },
  {
   "cell_type": "code",
   "execution_count": 5,
   "id": "8a30961c",
   "metadata": {},
   "outputs": [],
   "source": [
    "train_cat.loc[(train_cat['family_size']=='3') & (train_cat['no_of_children']=='1'), 'marital_status'] = 'Married'"
   ]
  },
  {
   "cell_type": "code",
   "execution_count": 6,
   "id": "06ac0e23",
   "metadata": {},
   "outputs": [
    {
     "data": {
      "text/plain": [
       "array(['1', '2', 'unknown', '3', '4', '5+'], dtype=object)"
      ]
     },
     "execution_count": 6,
     "metadata": {},
     "output_type": "execute_result"
    }
   ],
   "source": [
    "train_cat.family_size.unique()"
   ]
  },
  {
   "cell_type": "code",
   "execution_count": 7,
   "id": "332c4a9c",
   "metadata": {},
   "outputs": [],
   "source": [
    "train_cat.loc[train_cat['no_of_children']=='3+', 'marital_status'] = 'Married'"
   ]
  },
  {
   "cell_type": "code",
   "execution_count": 8,
   "id": "0884b142",
   "metadata": {},
   "outputs": [],
   "source": [
    "train_cat.loc[(train_cat['no_of_children']=='1')&(train_cat['family_size']=='2'), 'marital_status'] = 'Single'\n",
    "train_cat.loc[(train_cat['no_of_children']=='3')&(train_cat['family_size']=='4'), 'marital_status'] = 'Single'"
   ]
  },
  {
   "cell_type": "code",
   "execution_count": 9,
   "id": "5cb4900a",
   "metadata": {},
   "outputs": [],
   "source": [
    "train_cat.loc[(train_cat['marital_status']=='Single')&(train_cat['family_size']=='2'), 'no_of_children'] = '1'"
   ]
  },
  {
   "cell_type": "code",
   "execution_count": 10,
   "id": "11804aee",
   "metadata": {},
   "outputs": [],
   "source": [
    "train_cat.loc[(train_cat['family_size']=='1'), 'marital_status'] = 'Single'\n",
    "train_cat.loc[(train_cat['age_range'] == '18-25'), 'marital_status'] = 'Single'\n",
    "train_cat.loc[(train_cat['age_range'] == '18-25'), 'no_of_children'] = '0'"
   ]
  },
  {
   "cell_type": "code",
   "execution_count": 11,
   "id": "1838a66e",
   "metadata": {},
   "outputs": [
    {
     "data": {
      "text/plain": [
       "0          7682\n",
       "unknown    2917\n",
       "1          1543\n",
       "Name: no_of_children, dtype: int64"
      ]
     },
     "execution_count": 11,
     "metadata": {},
     "output_type": "execute_result"
    }
   ],
   "source": [
    "train_cat[(train_cat['income_bracket']>='4') & (train_cat['family_size']=='2')].no_of_children.value_counts()"
   ]
  },
  {
   "cell_type": "code",
   "execution_count": 12,
   "id": "80474cd8",
   "metadata": {},
   "outputs": [
    {
     "data": {
      "text/plain": [
       "Married    7272\n",
       "unknown    2917\n",
       "Single     1953\n",
       "Name: marital_status, dtype: int64"
      ]
     },
     "execution_count": 12,
     "metadata": {},
     "output_type": "execute_result"
    }
   ],
   "source": [
    "train_cat[(train_cat['income_bracket']>='4') & (train_cat['family_size']=='2')].marital_status.value_counts()"
   ]
  },
  {
   "cell_type": "code",
   "execution_count": 13,
   "id": "c8d030a2",
   "metadata": {},
   "outputs": [],
   "source": [
    "train_cat.loc[(train_cat['income_bracket']>='4')&(train_cat['family_size']=='2'), 'no_of_children'] = '0'\n",
    "train_cat.loc[(train_cat['income_bracket']>='4')&(train_cat['family_size']=='2'), 'marital_status'] = 'Married'"
   ]
  },
  {
   "cell_type": "code",
   "execution_count": 14,
   "id": "9a002f19",
   "metadata": {},
   "outputs": [],
   "source": [
    "train_cat.loc[train_cat['age_range']=='18-25', 'marital_status'] = 'Single'"
   ]
  },
  {
   "cell_type": "code",
   "execution_count": 15,
   "id": "42f3d441",
   "metadata": {},
   "outputs": [
    {
     "data": {
      "text/plain": [
       "Married    2494\n",
       "unknown    1353\n",
       "Single      899\n",
       "Name: marital_status, dtype: int64"
      ]
     },
     "execution_count": 15,
     "metadata": {},
     "output_type": "execute_result"
    }
   ],
   "source": [
    "train_cat[(train_cat['income_bracket'].between('1','3'))&(train_cat['family_size']=='2')].marital_status.value_counts()"
   ]
  },
  {
   "cell_type": "code",
   "execution_count": 16,
   "id": "1f4148c2",
   "metadata": {},
   "outputs": [],
   "source": [
    "train_cat.loc[(train_cat['income_bracket'].between('1','3'))&(train_cat['family_size']=='2'), 'marital_status'] = 'Married'"
   ]
  },
  {
   "cell_type": "code",
   "execution_count": 17,
   "id": "4b279e39",
   "metadata": {},
   "outputs": [
    {
     "data": {
      "text/plain": [
       "0          15116\n",
       "unknown     1353\n",
       "1            419\n",
       "Name: no_of_children, dtype: int64"
      ]
     },
     "execution_count": 17,
     "metadata": {},
     "output_type": "execute_result"
    }
   ],
   "source": [
    "train_cat[train_cat['family_size']=='2'].no_of_children.value_counts() "
   ]
  },
  {
   "cell_type": "code",
   "execution_count": 18,
   "id": "af2d48da",
   "metadata": {},
   "outputs": [],
   "source": [
    "train_cat.loc[train_cat['family_size']=='2', 'no_of_children'] = '0'"
   ]
  },
  {
   "cell_type": "code",
   "execution_count": 19,
   "id": "f59f4783",
   "metadata": {},
   "outputs": [
    {
     "data": {
      "text/plain": [
       "unknown    35618\n",
       "Married    27470\n",
       "Single     15281\n",
       "Name: marital_status, dtype: int64"
      ]
     },
     "execution_count": 19,
     "metadata": {},
     "output_type": "execute_result"
    }
   ],
   "source": [
    "train_cat['marital_status'].value_counts()"
   ]
  },
  {
   "cell_type": "code",
   "execution_count": 20,
   "id": "6e5d779d",
   "metadata": {
    "scrolled": true
   },
   "outputs": [
    {
     "data": {
      "text/plain": [
       "unknown    34708\n",
       "0          31050\n",
       "1           5249\n",
       "3+          3858\n",
       "2           3504\n",
       "Name: no_of_children, dtype: int64"
      ]
     },
     "execution_count": 20,
     "metadata": {},
     "output_type": "execute_result"
    }
   ],
   "source": [
    "train_cat['no_of_children'].value_counts()"
   ]
  },
  {
   "cell_type": "code",
   "execution_count": 21,
   "id": "3902b673",
   "metadata": {},
   "outputs": [
    {
     "data": {
      "text/plain": [
       "0          41156\n",
       "unknown    34708\n",
       "1           2505\n",
       "Name: rented, dtype: int64"
      ]
     },
     "execution_count": 21,
     "metadata": {},
     "output_type": "execute_result"
    }
   ],
   "source": [
    "train_cat['rented'].value_counts()"
   ]
  },
  {
   "cell_type": "code",
   "execution_count": 22,
   "id": "acb0ac0d",
   "metadata": {
    "scrolled": true
   },
   "outputs": [
    {
     "data": {
      "text/plain": [
       "unknown    34708\n",
       "2          16888\n",
       "1          13612\n",
       "3           6267\n",
       "5+          3755\n",
       "4           3139\n",
       "Name: family_size, dtype: int64"
      ]
     },
     "execution_count": 22,
     "metadata": {},
     "output_type": "execute_result"
    }
   ],
   "source": [
    "train_cat['family_size'].value_counts()"
   ]
  },
  {
   "cell_type": "code",
   "execution_count": 110,
   "id": "465932ce",
   "metadata": {},
   "outputs": [
    {
     "data": {
      "text/plain": [
       "<AxesSubplot:xlabel='income_bracket', ylabel='Count'>"
      ]
     },
     "execution_count": 110,
     "metadata": {},
     "output_type": "execute_result"
    },
    {
     "data": {
      "image/png": "[encoded data removed]",
      "text/plain": [
       "<Figure size 432x288 with 1 Axes>"
      ]
     },
     "metadata": {
      "needs_background": "light"
     },
     "output_type": "display_data"
    }
   ],
   "source": [
    "sns.histplot(train_cat[train_cat['income_bracket']!='unknown'].income_bracket)"
   ]
  },
  {
   "cell_type": "code",
   "execution_count": 112,
   "id": "dc1f23c3",
   "metadata": {},
   "outputs": [
    {
     "data": {
      "image/png": "[encoded data removed]",
      "text/plain": [
       "<Figure size 432x288 with 1 Axes>"
      ]
     },
     "metadata": {
      "needs_background": "light"
     },
     "output_type": "display_data"
    }
   ],
   "source": [
    "#sns.histplot(train_cat[train_cat['rented']!='unknown'].rented)\n",
    "sns.histplot(train_cat['rented'])\n",
    "plt.show()"
   ]
  },
  {
   "cell_type": "code",
   "execution_count": 23,
   "id": "a03a6738",
   "metadata": {},
   "outputs": [],
   "source": [
    "## Impute rented unknown values as 0\n",
    "train_cat.loc[train_cat['rented']=='unknown', 'rented'] = '0'"
   ]
  },
  {
   "cell_type": "code",
   "execution_count": 24,
   "id": "cf85ef1f",
   "metadata": {},
   "outputs": [
    {
     "data": {
      "text/html": [
       "<div>\n",
       "<style scoped>\n",
       "    .dataframe tbody tr th:only-of-type {\n",
       "        vertical-align: middle;\n",
       "    }\n",
       "\n",
       "    .dataframe tbody tr th {\n",
       "        vertical-align: top;\n",
       "    }\n",
       "\n",
       "    .dataframe thead th {\n",
       "        text-align: right;\n",
       "    }\n",
       "</style>\n",
       "<table border=\"1\" class=\"dataframe\">\n",
       "  <thead>\n",
       "    <tr style=\"text-align: right;\">\n",
       "      <th></th>\n",
       "      <th>Unnamed: 0</th>\n",
       "      <th>age_range</th>\n",
       "      <th>marital_status</th>\n",
       "      <th>rented</th>\n",
       "      <th>family_size</th>\n",
       "      <th>no_of_children</th>\n",
       "      <th>income_bracket</th>\n",
       "      <th>cust_quantity</th>\n",
       "      <th>cust_other_usage</th>\n",
       "      <th>cust_coupon_usage</th>\n",
       "      <th>...</th>\n",
       "      <th>items_quantity</th>\n",
       "      <th>redemption_status</th>\n",
       "      <th>Grocery</th>\n",
       "      <th>Pharmaceutical</th>\n",
       "      <th>Food</th>\n",
       "      <th>Drink</th>\n",
       "      <th>Miscellaneous</th>\n",
       "      <th>Natural Products</th>\n",
       "      <th>Garden</th>\n",
       "      <th>Skin &amp; Hair Care</th>\n",
       "    </tr>\n",
       "  </thead>\n",
       "  <tbody>\n",
       "    <tr>\n",
       "      <th>0</th>\n",
       "      <td>0</td>\n",
       "      <td>46-55</td>\n",
       "      <td>Single</td>\n",
       "      <td>0</td>\n",
       "      <td>1</td>\n",
       "      <td>0</td>\n",
       "      <td>5</td>\n",
       "      <td>105551</td>\n",
       "      <td>167</td>\n",
       "      <td>1</td>\n",
       "      <td>...</td>\n",
       "      <td>4661</td>\n",
       "      <td>0</td>\n",
       "      <td>1</td>\n",
       "      <td>0</td>\n",
       "      <td>0</td>\n",
       "      <td>0</td>\n",
       "      <td>0</td>\n",
       "      <td>0</td>\n",
       "      <td>0</td>\n",
       "      <td>0</td>\n",
       "    </tr>\n",
       "    <tr>\n",
       "      <th>1</th>\n",
       "      <td>1</td>\n",
       "      <td>36-45</td>\n",
       "      <td>Married</td>\n",
       "      <td>0</td>\n",
       "      <td>2</td>\n",
       "      <td>0</td>\n",
       "      <td>3</td>\n",
       "      <td>12143</td>\n",
       "      <td>209</td>\n",
       "      <td>12</td>\n",
       "      <td>...</td>\n",
       "      <td>86</td>\n",
       "      <td>0</td>\n",
       "      <td>1</td>\n",
       "      <td>0</td>\n",
       "      <td>0</td>\n",
       "      <td>0</td>\n",
       "      <td>0</td>\n",
       "      <td>0</td>\n",
       "      <td>0</td>\n",
       "      <td>0</td>\n",
       "    </tr>\n",
       "    <tr>\n",
       "      <th>2</th>\n",
       "      <td>2</td>\n",
       "      <td>46-55</td>\n",
       "      <td>Married</td>\n",
       "      <td>0</td>\n",
       "      <td>2</td>\n",
       "      <td>0</td>\n",
       "      <td>7</td>\n",
       "      <td>1351</td>\n",
       "      <td>457</td>\n",
       "      <td>85</td>\n",
       "      <td>...</td>\n",
       "      <td>202</td>\n",
       "      <td>0</td>\n",
       "      <td>0</td>\n",
       "      <td>1</td>\n",
       "      <td>0</td>\n",
       "      <td>0</td>\n",
       "      <td>0</td>\n",
       "      <td>0</td>\n",
       "      <td>0</td>\n",
       "      <td>0</td>\n",
       "    </tr>\n",
       "    <tr>\n",
       "      <th>3</th>\n",
       "      <td>3</td>\n",
       "      <td>unknown</td>\n",
       "      <td>unknown</td>\n",
       "      <td>0</td>\n",
       "      <td>unknown</td>\n",
       "      <td>unknown</td>\n",
       "      <td>unknown</td>\n",
       "      <td>306</td>\n",
       "      <td>120</td>\n",
       "      <td>2</td>\n",
       "      <td>...</td>\n",
       "      <td>47</td>\n",
       "      <td>0</td>\n",
       "      <td>1</td>\n",
       "      <td>0</td>\n",
       "      <td>0</td>\n",
       "      <td>0</td>\n",
       "      <td>0</td>\n",
       "      <td>0</td>\n",
       "      <td>0</td>\n",
       "      <td>0</td>\n",
       "    </tr>\n",
       "    <tr>\n",
       "      <th>4</th>\n",
       "      <td>4</td>\n",
       "      <td>46-55</td>\n",
       "      <td>Married</td>\n",
       "      <td>0</td>\n",
       "      <td>2</td>\n",
       "      <td>0</td>\n",
       "      <td>3</td>\n",
       "      <td>139063</td>\n",
       "      <td>281</td>\n",
       "      <td>10</td>\n",
       "      <td>...</td>\n",
       "      <td>1610</td>\n",
       "      <td>0</td>\n",
       "      <td>1</td>\n",
       "      <td>0</td>\n",
       "      <td>0</td>\n",
       "      <td>0</td>\n",
       "      <td>0</td>\n",
       "      <td>0</td>\n",
       "      <td>0</td>\n",
       "      <td>0</td>\n",
       "    </tr>\n",
       "  </tbody>\n",
       "</table>\n",
       "<p>5 rows × 29 columns</p>\n",
       "</div>"
      ],
      "text/plain": [
       "   Unnamed: 0 age_range marital_status rented family_size no_of_children  \\\n",
       "0           0     46-55         Single      0           1              0   \n",
       "1           1     36-45        Married      0           2              0   \n",
       "2           2     46-55        Married      0           2              0   \n",
       "3           3   unknown        unknown      0     unknown        unknown   \n",
       "4           4     46-55        Married      0           2              0   \n",
       "\n",
       "  income_bracket  cust_quantity  cust_other_usage  cust_coupon_usage  ...  \\\n",
       "0              5         105551               167                  1  ...   \n",
       "1              3          12143               209                 12  ...   \n",
       "2              7           1351               457                 85  ...   \n",
       "3        unknown            306               120                  2  ...   \n",
       "4              3         139063               281                 10  ...   \n",
       "\n",
       "  items_quantity  redemption_status  Grocery  Pharmaceutical Food  Drink  \\\n",
       "0           4661                  0        1               0    0      0   \n",
       "1             86                  0        1               0    0      0   \n",
       "2            202                  0        0               1    0      0   \n",
       "3             47                  0        1               0    0      0   \n",
       "4           1610                  0        1               0    0      0   \n",
       "\n",
       "   Miscellaneous Natural Products Garden  Skin & Hair Care  \n",
       "0              0                0      0                 0  \n",
       "1              0                0      0                 0  \n",
       "2              0                0      0                 0  \n",
       "3              0                0      0                 0  \n",
       "4              0                0      0                 0  \n",
       "\n",
       "[5 rows x 29 columns]"
      ]
     },
     "execution_count": 24,
     "metadata": {},
     "output_type": "execute_result"
    }
   ],
   "source": [
    "train_cat.head()"
   ]
  },
  {
   "cell_type": "code",
   "execution_count": 25,
   "id": "0870eafb",
   "metadata": {},
   "outputs": [
    {
     "data": {
      "text/plain": [
       "array(['0', '1'], dtype=object)"
      ]
     },
     "execution_count": 25,
     "metadata": {},
     "output_type": "execute_result"
    }
   ],
   "source": [
    "train_cat['rented'].unique()"
   ]
  },
  {
   "cell_type": "code",
   "execution_count": 26,
   "id": "c25ff1e4",
   "metadata": {},
   "outputs": [
    {
     "data": {
      "text/plain": [
       "unknown    34708\n",
       "2          16888\n",
       "1          13612\n",
       "3           6267\n",
       "5+          3755\n",
       "4           3139\n",
       "Name: family_size, dtype: int64"
      ]
     },
     "execution_count": 26,
     "metadata": {},
     "output_type": "execute_result"
    }
   ],
   "source": [
    "train_cat['family_size'].value_counts()"
   ]
  },
  {
   "cell_type": "code",
   "execution_count": 27,
   "id": "889afd7b",
   "metadata": {},
   "outputs": [
    {
     "data": {
      "text/plain": [
       "unknown    34708\n",
       "0          31050\n",
       "1           5249\n",
       "3+          3858\n",
       "2           3504\n",
       "Name: no_of_children, dtype: int64"
      ]
     },
     "execution_count": 27,
     "metadata": {},
     "output_type": "execute_result"
    }
   ],
   "source": [
    "train_cat['no_of_children'].value_counts()"
   ]
  },
  {
   "cell_type": "code",
   "execution_count": 28,
   "id": "794883e5",
   "metadata": {},
   "outputs": [
    {
     "data": {
      "text/plain": [
       "unknown    35618\n",
       "Married    27470\n",
       "Single     15281\n",
       "Name: marital_status, dtype: int64"
      ]
     },
     "execution_count": 28,
     "metadata": {},
     "output_type": "execute_result"
    }
   ],
   "source": [
    "train_cat['marital_status'].value_counts()"
   ]
  },
  {
   "cell_type": "code",
   "execution_count": 29,
   "id": "03b89b05",
   "metadata": {},
   "outputs": [
    {
     "data": {
      "text/plain": [
       "4    910\n",
       "Name: family_size, dtype: int64"
      ]
     },
     "execution_count": 29,
     "metadata": {},
     "output_type": "execute_result"
    }
   ],
   "source": [
    "train_cat[(train_cat['marital_status']=='unknown') & (train_cat['no_of_children']!='unknown')].family_size.value_counts()"
   ]
  },
  {
   "cell_type": "code",
   "execution_count": 30,
   "id": "7846895a",
   "metadata": {},
   "outputs": [
    {
     "data": {
      "text/plain": [
       "2    910\n",
       "Name: no_of_children, dtype: int64"
      ]
     },
     "execution_count": 30,
     "metadata": {},
     "output_type": "execute_result"
    }
   ],
   "source": [
    "train_cat[(train_cat['marital_status']=='unknown') & (train_cat['no_of_children']!='unknown')].no_of_children.value_counts()"
   ]
  },
  {
   "cell_type": "code",
   "execution_count": 31,
   "id": "8f9867c4",
   "metadata": {},
   "outputs": [
    {
     "data": {
      "text/plain": [
       "Married    1885\n",
       "unknown     910\n",
       "Single       87\n",
       "Name: marital_status, dtype: int64"
      ]
     },
     "execution_count": 31,
     "metadata": {},
     "output_type": "execute_result"
    }
   ],
   "source": [
    "train_cat[(train_cat['family_size']=='4')&(train_cat['no_of_children']=='2')].marital_status.value_counts()"
   ]
  },
  {
   "cell_type": "code",
   "execution_count": 32,
   "id": "c83b751a",
   "metadata": {},
   "outputs": [],
   "source": [
    "# Impute Married to replace unknown value \n",
    "train_cat.loc[(train_cat['family_size']=='4')&(train_cat['no_of_children']=='2'), 'marital_status'] = 'Married'"
   ]
  },
  {
   "cell_type": "code",
   "execution_count": 33,
   "id": "dd7c2324",
   "metadata": {},
   "outputs": [
    {
     "data": {
      "text/plain": [
       "unknown    34708\n",
       "2          16888\n",
       "1          13612\n",
       "3           6267\n",
       "5+          3755\n",
       "4           3139\n",
       "Name: family_size, dtype: int64"
      ]
     },
     "execution_count": 33,
     "metadata": {},
     "output_type": "execute_result"
    }
   ],
   "source": [
    "train_cat['family_size'].value_counts()"
   ]
  },
  {
   "cell_type": "code",
   "execution_count": 34,
   "id": "08e23c3b",
   "metadata": {},
   "outputs": [
    {
     "data": {
      "text/plain": [
       "unknown    34708\n",
       "0          31050\n",
       "1           5249\n",
       "3+          3858\n",
       "2           3504\n",
       "Name: no_of_children, dtype: int64"
      ]
     },
     "execution_count": 34,
     "metadata": {},
     "output_type": "execute_result"
    }
   ],
   "source": [
    "train_cat['no_of_children'].value_counts()"
   ]
  },
  {
   "cell_type": "code",
   "execution_count": 134,
   "id": "95758345",
   "metadata": {},
   "outputs": [
    {
     "data": {
      "text/plain": [
       "unknown    34708\n",
       "Married    28467\n",
       "Single     15194\n",
       "Name: marital_status, dtype: int64"
      ]
     },
     "execution_count": 134,
     "metadata": {},
     "output_type": "execute_result"
    }
   ],
   "source": [
    "train_cat['marital_status'].value_counts()"
   ]
  },
  {
   "cell_type": "code",
   "execution_count": 136,
   "id": "ac250a4f",
   "metadata": {},
   "outputs": [
    {
     "data": {
      "text/plain": [
       "unknown    34708\n",
       "5          11037\n",
       "4           8753\n",
       "6           4855\n",
       "2           3892\n",
       "3           3882\n",
       "1           3456\n",
       "8           2369\n",
       "9           2019\n",
       "7           1829\n",
       "12           796\n",
       "10           513\n",
       "11           260\n",
       "Name: income_bracket, dtype: int64"
      ]
     },
     "execution_count": 136,
     "metadata": {},
     "output_type": "execute_result"
    }
   ],
   "source": [
    "train_cat['income_bracket'].value_counts()"
   ]
  },
  {
   "cell_type": "code",
   "execution_count": 137,
   "id": "bbb01951",
   "metadata": {},
   "outputs": [
    {
     "data": {
      "text/plain": [
       "0    75864\n",
       "1     2505\n",
       "Name: rented, dtype: int64"
      ]
     },
     "execution_count": 137,
     "metadata": {},
     "output_type": "execute_result"
    }
   ],
   "source": [
    "train_cat['rented'].value_counts()"
   ]
  },
  {
   "cell_type": "code",
   "execution_count": 147,
   "id": "2d35609b",
   "metadata": {},
   "outputs": [
    {
     "data": {
      "text/plain": [
       "unknown    34708\n",
       "46-55      15154\n",
       "36-45      11210\n",
       "26-35       8024\n",
       "56-70       3723\n",
       "70+         3094\n",
       "18-25       2456\n",
       "Name: age_range, dtype: int64"
      ]
     },
     "execution_count": 147,
     "metadata": {},
     "output_type": "execute_result"
    }
   ],
   "source": [
    "train_cat['age_range'].value_counts()"
   ]
  },
  {
   "cell_type": "markdown",
   "id": "eda4fc67",
   "metadata": {},
   "source": [
    "## Deal with unknown values from family_size, no_of_children, income_bracket and marital_status features "
   ]
  },
  {
   "cell_type": "markdown",
   "id": "cf466ba3",
   "metadata": {},
   "source": [
    "#### Bench impute the most frequent value to replace the unknown value"
   ]
  },
  {
   "cell_type": "code",
   "execution_count": 35,
   "id": "ec2bb78d",
   "metadata": {},
   "outputs": [],
   "source": [
    "train_fre = train_cat.copy()"
   ]
  },
  {
   "cell_type": "code",
   "execution_count": 36,
   "id": "f7ef32d7",
   "metadata": {},
   "outputs": [],
   "source": [
    "train_fre.loc[train_fre['family_size']=='unknown', 'family_size'] = '2'\n",
    "train_fre.loc[train_fre['no_of_children']=='unknown', 'no_of_children'] = '0'\n",
    "train_fre.loc[train_fre['marital_status']=='unknown', 'marital_status'] = 'Married'\n",
    "train_fre.loc[train_fre['income_bracket']=='unknown', 'income_bracket'] = '5'\n",
    "train_fre.loc[train_fre['age_range']=='unknown', 'age_range'] = '46-55'"
   ]
  },
  {
   "cell_type": "markdown",
   "id": "2a2e6473",
   "metadata": {},
   "source": [
    "## Transform category value to numerical value for age_range, marital_status, rented, no_of_children, income_bracket"
   ]
  },
  {
   "cell_type": "code",
   "execution_count": 37,
   "id": "5a57b6f7",
   "metadata": {},
   "outputs": [
    {
     "data": {
      "text/plain": [
       "array(['46-55', '36-45', '18-25', '26-35', '56-70', '70+'], dtype=object)"
      ]
     },
     "execution_count": 37,
     "metadata": {},
     "output_type": "execute_result"
    }
   ],
   "source": [
    "train_fre['age_range'].unique()"
   ]
  },
  {
   "cell_type": "markdown",
   "id": "5650fce6",
   "metadata": {},
   "source": [
    "### Age_range\n",
    "\n",
    "\n",
    "| Variable | Label |\n",
    "|----------|-------|\n",
    "|   18-25  |   0   |\n",
    "|   26-35  |   1   |\n",
    "|   36-45  |   2   |\n",
    "|   46-55  |   3   |\n",
    "|   56-70  |   4   |\n",
    "|    70+   |   5   |"
   ]
  },
  {
   "cell_type": "code",
   "execution_count": 38,
   "id": "77f6fdc0",
   "metadata": {},
   "outputs": [],
   "source": [
    "def age2num(x):\n",
    "    if x == '18-25':\n",
    "        x = int(0)\n",
    "    elif x == '26-35':\n",
    "        x = int(1)\n",
    "    elif x == '36-45':\n",
    "        x = int(2)\n",
    "    elif x == '46-55':\n",
    "        x = int(3)\n",
    "    elif x == '56-70':\n",
    "        x = int(4)\n",
    "    else:\n",
    "        x = int(5)\n",
    "    return x\n",
    "\n",
    "train_fre['age_range'] = train_fre['age_range'].map(age2num)\n",
    "        "
   ]
  },
  {
   "cell_type": "code",
   "execution_count": 39,
   "id": "131ed41f",
   "metadata": {},
   "outputs": [
    {
     "data": {
      "text/plain": [
       "array(['0', '1', '3+', '2'], dtype=object)"
      ]
     },
     "execution_count": 39,
     "metadata": {},
     "output_type": "execute_result"
    }
   ],
   "source": [
    "train_fre['no_of_children'].unique()"
   ]
  },
  {
   "cell_type": "markdown",
   "id": "baaa8870",
   "metadata": {},
   "source": [
    "## No_of_children\n",
    "\n",
    "| Variable | Label |\n",
    "|----------|-------|\n",
    "|     0    |   0   |\n",
    "|     1    |   1   |\n",
    "|     2    |   2   |\n",
    "|    3+    |   3   |"
   ]
  },
  {
   "cell_type": "code",
   "execution_count": 40,
   "id": "ed9f07fc",
   "metadata": {},
   "outputs": [],
   "source": [
    "def child2num(x):\n",
    "    if x == '0':\n",
    "        x = int(0)\n",
    "    elif x == '1':\n",
    "        x = int(1)\n",
    "    elif x == '2':\n",
    "        x = int(2)\n",
    "    else:\n",
    "        x = int(3)\n",
    "    return x\n",
    "\n",
    "train_fre['no_of_children'] = train_fre['no_of_children'].map(child2num)"
   ]
  },
  {
   "cell_type": "code",
   "execution_count": 41,
   "id": "6e0b2970",
   "metadata": {},
   "outputs": [
    {
     "data": {
      "text/plain": [
       "array(['Single', 'Married'], dtype=object)"
      ]
     },
     "execution_count": 41,
     "metadata": {},
     "output_type": "execute_result"
    }
   ],
   "source": [
    "train_fre['marital_status'].unique()"
   ]
  },
  {
   "cell_type": "markdown",
   "id": "145b31e0",
   "metadata": {},
   "source": [
    "## Marital_status\n",
    "\n",
    "| Variable | Label |\n",
    "|----------|-------|\n",
    "|   Single |     0 |\n",
    "|  Married |     1 |"
   ]
  },
  {
   "cell_type": "code",
   "execution_count": 42,
   "id": "7d04db30",
   "metadata": {},
   "outputs": [],
   "source": [
    "def marital2num(x):\n",
    "    if x == 'Single':\n",
    "        x = int(0)\n",
    "    else:\n",
    "        x = int(1)\n",
    "    return x\n",
    "\n",
    "train_fre['marital_status'] = train_fre['marital_status'].map(marital2num)"
   ]
  },
  {
   "cell_type": "code",
   "execution_count": 43,
   "id": "2e50f4ce",
   "metadata": {},
   "outputs": [
    {
     "data": {
      "text/plain": [
       "array([0, 1], dtype=int64)"
      ]
     },
     "execution_count": 43,
     "metadata": {},
     "output_type": "execute_result"
    }
   ],
   "source": [
    "train_fre['marital_status'].unique()"
   ]
  },
  {
   "cell_type": "code",
   "execution_count": 44,
   "id": "fd7f5c05",
   "metadata": {},
   "outputs": [
    {
     "data": {
      "text/plain": [
       "array(['0', '1'], dtype=object)"
      ]
     },
     "execution_count": 44,
     "metadata": {},
     "output_type": "execute_result"
    }
   ],
   "source": [
    "train_fre['rented'].unique()"
   ]
  },
  {
   "cell_type": "code",
   "execution_count": 45,
   "id": "53dcdf07",
   "metadata": {},
   "outputs": [],
   "source": [
    "train_fre['rented'] = train_fre['rented'].astype(int)"
   ]
  },
  {
   "cell_type": "code",
   "execution_count": 46,
   "id": "f367c973",
   "metadata": {},
   "outputs": [],
   "source": [
    "train_fre['income_bracket'] = train_fre['income_bracket'].astype(int)"
   ]
  },
  {
   "cell_type": "code",
   "execution_count": 47,
   "id": "e750ceab",
   "metadata": {},
   "outputs": [
    {
     "name": "stdout",
     "output_type": "stream",
     "text": [
      "<class 'pandas.core.frame.DataFrame'>\n",
      "RangeIndex: 78369 entries, 0 to 78368\n",
      "Data columns (total 29 columns):\n",
      " #   Column             Non-Null Count  Dtype \n",
      "---  ------             --------------  ----- \n",
      " 0   Unnamed: 0         78369 non-null  int64 \n",
      " 1   age_range          78369 non-null  int64 \n",
      " 2   marital_status     78369 non-null  int64 \n",
      " 3   rented             78369 non-null  int32 \n",
      " 4   family_size        78369 non-null  object\n",
      " 5   no_of_children     78369 non-null  int64 \n",
      " 6   income_bracket     78369 non-null  int32 \n",
      " 7   cust_quantity      78369 non-null  int64 \n",
      " 8   cust_other_usage   78369 non-null  int64 \n",
      " 9   cust_coupon_usage  78369 non-null  int64 \n",
      " 10  camp_type          78369 non-null  object\n",
      " 11  camp_start_month   78369 non-null  int64 \n",
      " 12  camp_end_month     78369 non-null  int64 \n",
      " 13  camp_duration      78369 non-null  int64 \n",
      " 14  holiday_covered    78369 non-null  object\n",
      " 15  item_NO.           78369 non-null  int64 \n",
      " 16  brand_NO.          78369 non-null  int64 \n",
      " 17  brand_type         78369 non-null  object\n",
      " 18  category           78369 non-null  object\n",
      " 19  items_quantity     78369 non-null  int32 \n",
      " 20  redemption_status  78369 non-null  int32 \n",
      " 21  Grocery            78369 non-null  int32 \n",
      " 22  Pharmaceutical     78369 non-null  int32 \n",
      " 23  Food               78369 non-null  int32 \n",
      " 24  Drink              78369 non-null  int32 \n",
      " 25  Miscellaneous      78369 non-null  int32 \n",
      " 26  Natural Products   78369 non-null  int32 \n",
      " 27  Garden             78369 non-null  int32 \n",
      " 28  Skin & Hair Care   78369 non-null  int32 \n",
      "dtypes: int32(12), int64(12), object(5)\n",
      "memory usage: 13.8+ MB\n"
     ]
    }
   ],
   "source": [
    "train_fre.info()"
   ]
  },
  {
   "cell_type": "code",
   "execution_count": 48,
   "id": "66f37c0e",
   "metadata": {},
   "outputs": [
    {
     "data": {
      "text/plain": [
       "array(['1', '2', '3', '4', '5+'], dtype=object)"
      ]
     },
     "execution_count": 48,
     "metadata": {},
     "output_type": "execute_result"
    }
   ],
   "source": [
    "train_fre['family_size'].unique()"
   ]
  },
  {
   "cell_type": "code",
   "execution_count": 49,
   "id": "2d51ff61",
   "metadata": {},
   "outputs": [],
   "source": [
    "def family2num(x):\n",
    "    if x == '1':\n",
    "        x = int(1)\n",
    "    elif x == '2':\n",
    "        x = int(2)\n",
    "    elif x == '3':\n",
    "        x = int(3)\n",
    "    elif x == '4':\n",
    "        x = int(4)\n",
    "    else:\n",
    "        x = int(5)\n",
    "    return x\n",
    "\n",
    "train_fre['family_size'] = train_fre['family_size'].map(family2num)"
   ]
  },
  {
   "cell_type": "code",
   "execution_count": 50,
   "id": "3d4fde50",
   "metadata": {},
   "outputs": [
    {
     "data": {
      "text/plain": [
       "array(['X', 'Y'], dtype=object)"
      ]
     },
     "execution_count": 50,
     "metadata": {},
     "output_type": "execute_result"
    }
   ],
   "source": [
    "train_fre.camp_type.unique()"
   ]
  },
  {
   "cell_type": "markdown",
   "id": "37693eea",
   "metadata": {},
   "source": [
    "## Camp_type\n",
    "\n",
    "| Variable | Label |\n",
    "|----------|-------|\n",
    "|     X    |   0   |\n",
    "|     Y    |   1   |"
   ]
  },
  {
   "cell_type": "code",
   "execution_count": 51,
   "id": "ffb3485f",
   "metadata": {},
   "outputs": [],
   "source": [
    "def camp2num(x):\n",
    "    if x == 'X':\n",
    "        x = int(0)\n",
    "    else:\n",
    "        x = int(1)\n",
    "    return x\n",
    "\n",
    "train_fre['camp_type'] = train_fre['camp_type'].map(camp2num)"
   ]
  },
  {
   "cell_type": "code",
   "execution_count": 52,
   "id": "bb1f5fb7",
   "metadata": {},
   "outputs": [
    {
     "data": {
      "text/plain": [
       "array(['Yes', 'No'], dtype=object)"
      ]
     },
     "execution_count": 52,
     "metadata": {},
     "output_type": "execute_result"
    }
   ],
   "source": [
    "train_fre['holiday_covered'].unique()"
   ]
  },
  {
   "cell_type": "markdown",
   "id": "b0280d1d",
   "metadata": {},
   "source": [
    "## Holiday_covered\n",
    "\n",
    "| Variable | Label |\n",
    "|----------|-------|\n",
    "|    No    |   0   |\n",
    "|    Yes   |   1   |"
   ]
  },
  {
   "cell_type": "code",
   "execution_count": 53,
   "id": "d246fd16",
   "metadata": {},
   "outputs": [],
   "source": [
    "train_fre['holiday_covered'] = train_fre['holiday_covered'].map(lambda x: int(1) if x == 'Yes' else int(0))"
   ]
  },
  {
   "cell_type": "code",
   "execution_count": 54,
   "id": "fcae37d5",
   "metadata": {},
   "outputs": [
    {
     "data": {
      "text/plain": [
       "array([1, 0], dtype=int64)"
      ]
     },
     "execution_count": 54,
     "metadata": {},
     "output_type": "execute_result"
    }
   ],
   "source": [
    "train_fre['holiday_covered'].unique()"
   ]
  },
  {
   "cell_type": "code",
   "execution_count": 55,
   "id": "3d73ab37",
   "metadata": {},
   "outputs": [
    {
     "data": {
      "text/plain": [
       "array(['Established', 'Local', 'Local,Established'], dtype=object)"
      ]
     },
     "execution_count": 55,
     "metadata": {},
     "output_type": "execute_result"
    }
   ],
   "source": [
    "train_fre['brand_type'].unique()"
   ]
  },
  {
   "cell_type": "markdown",
   "id": "33ba0211",
   "metadata": {},
   "source": [
    "## Brand_type\n",
    "|      Variable     | Label |\n",
    "|:-----------------:|:-----:|\n",
    "|       Local       |   0   |\n",
    "|    Established    |   1   |\n",
    "| Local Established |   3   |"
   ]
  },
  {
   "cell_type": "code",
   "execution_count": 56,
   "id": "be299047",
   "metadata": {},
   "outputs": [],
   "source": [
    "def brand2num(x):\n",
    "    if x == 'Local':\n",
    "        x = int(0)\n",
    "    elif x == 'Established':\n",
    "        x = int(1)\n",
    "    else:\n",
    "        x = int(3)\n",
    "    return x\n",
    "\n",
    "train_fre['brand_type'] = train_fre['brand_type'].map(brand2num)"
   ]
  },
  {
   "cell_type": "code",
   "execution_count": 57,
   "id": "37b0fd03",
   "metadata": {},
   "outputs": [],
   "source": [
    "train_fre['Grocery'] = train_fre['Grocery'].astype(int)"
   ]
  },
  {
   "cell_type": "code",
   "execution_count": 58,
   "id": "ce4eee9e",
   "metadata": {},
   "outputs": [
    {
     "name": "stdout",
     "output_type": "stream",
     "text": [
      "<class 'pandas.core.frame.DataFrame'>\n",
      "RangeIndex: 78369 entries, 0 to 78368\n",
      "Data columns (total 29 columns):\n",
      " #   Column             Non-Null Count  Dtype \n",
      "---  ------             --------------  ----- \n",
      " 0   Unnamed: 0         78369 non-null  int64 \n",
      " 1   age_range          78369 non-null  int64 \n",
      " 2   marital_status     78369 non-null  int64 \n",
      " 3   rented             78369 non-null  int32 \n",
      " 4   family_size        78369 non-null  int64 \n",
      " 5   no_of_children     78369 non-null  int64 \n",
      " 6   income_bracket     78369 non-null  int32 \n",
      " 7   cust_quantity      78369 non-null  int64 \n",
      " 8   cust_other_usage   78369 non-null  int64 \n",
      " 9   cust_coupon_usage  78369 non-null  int64 \n",
      " 10  camp_type          78369 non-null  int64 \n",
      " 11  camp_start_month   78369 non-null  int64 \n",
      " 12  camp_end_month     78369 non-null  int64 \n",
      " 13  camp_duration      78369 non-null  int64 \n",
      " 14  holiday_covered    78369 non-null  int64 \n",
      " 15  item_NO.           78369 non-null  int64 \n",
      " 16  brand_NO.          78369 non-null  int64 \n",
      " 17  brand_type         78369 non-null  int64 \n",
      " 18  category           78369 non-null  object\n",
      " 19  items_quantity     78369 non-null  int32 \n",
      " 20  redemption_status  78369 non-null  int32 \n",
      " 21  Grocery            78369 non-null  int32 \n",
      " 22  Pharmaceutical     78369 non-null  int32 \n",
      " 23  Food               78369 non-null  int32 \n",
      " 24  Drink              78369 non-null  int32 \n",
      " 25  Miscellaneous      78369 non-null  int32 \n",
      " 26  Natural Products   78369 non-null  int32 \n",
      " 27  Garden             78369 non-null  int32 \n",
      " 28  Skin & Hair Care   78369 non-null  int32 \n",
      "dtypes: int32(12), int64(16), object(1)\n",
      "memory usage: 13.8+ MB\n"
     ]
    }
   ],
   "source": [
    "train_fre.info()"
   ]
  },
  {
   "cell_type": "code",
   "execution_count": 66,
   "id": "e047465a",
   "metadata": {},
   "outputs": [],
   "source": [
    "from sklearn.model_selection import train_test_split\n",
    "from sklearn.feature_selection import SelectKBest\n",
    "from sklearn.feature_selection import f_classif, chi2\n",
    "from sklearn.metrics import confusion_matrix, classification_report"
   ]
  },
  {
   "cell_type": "code",
   "execution_count": 86,
   "id": "8f468590",
   "metadata": {},
   "outputs": [],
   "source": [
    "features = list(train_fre.columns)\n",
    "target = 'redemption_status'\n",
    "features.remove(target)"
   ]
  },
  {
   "cell_type": "code",
   "execution_count": 87,
   "id": "65b14732",
   "metadata": {},
   "outputs": [],
   "source": [
    "X = train_fre[features]\n",
    "y = train_fre[target]"
   ]
  },
  {
   "cell_type": "code",
   "execution_count": 88,
   "id": "6ba6ad64",
   "metadata": {},
   "outputs": [],
   "source": [
    "X_train, X_test, y_train, y_test = train_test_split(X, y, test_size=0.2, random_state=2022, stratify=y)"
   ]
  },
  {
   "cell_type": "markdown",
   "id": "226107a0",
   "metadata": {},
   "source": [
    "###  Using all the features for XGBClassifier"
   ]
  },
  {
   "cell_type": "code",
   "execution_count": 75,
   "id": "d34c50ab",
   "metadata": {},
   "outputs": [],
   "source": [
    "from xgboost import XGBClassifier\n",
    "from sklearn.metrics import confusion_matrix, roc_auc_score,roc_curve\n",
    "from sklearn.model_selection import cross_val_score"
   ]
  },
  {
   "cell_type": "code",
   "execution_count": 76,
   "id": "5577a94f",
   "metadata": {},
   "outputs": [],
   "source": [
    "xgb = XGBClassifier()"
   ]
  },
  {
   "cell_type": "code",
   "execution_count": 95,
   "id": "504d528e",
   "metadata": {},
   "outputs": [],
   "source": [
    "xgb.fit(X_train, y_train)\n",
    "y_train_pred = xgb.predict(X_train)\n",
    "y_test_pred = xgb.predict(X_test)"
   ]
  },
  {
   "cell_type": "code",
   "execution_count": 96,
   "id": "58c20a37",
   "metadata": {},
   "outputs": [
    {
     "name": "stdout",
     "output_type": "stream",
     "text": [
      "              precision    recall  f1-score   support\n",
      "\n",
      "           0       0.99      1.00      1.00     15528\n",
      "           1       0.43      0.08      0.14       146\n",
      "\n",
      "    accuracy                           0.99     15674\n",
      "   macro avg       0.71      0.54      0.57     15674\n",
      "weighted avg       0.99      0.99      0.99     15674\n",
      "\n"
     ]
    }
   ],
   "source": [
    "print(classification_report(y_test,y_test_pred))"
   ]
  },
  {
   "cell_type": "code",
   "execution_count": 97,
   "id": "dc80e720",
   "metadata": {},
   "outputs": [
    {
     "name": "stdout",
     "output_type": "stream",
     "text": [
      "0.5405806920595936\n"
     ]
    }
   ],
   "source": [
    "print(roc_auc_score(y_test, y_test_pred))"
   ]
  },
  {
   "cell_type": "code",
   "execution_count": 98,
   "id": "5b2f1336",
   "metadata": {},
   "outputs": [
    {
     "name": "stdout",
     "output_type": "stream",
     "text": [
      "              precision    recall  f1-score   support\n",
      "\n",
      "           0       1.00      1.00      1.00     62112\n",
      "           1       0.98      0.51      0.67       583\n",
      "\n",
      "    accuracy                           1.00     62695\n",
      "   macro avg       0.99      0.75      0.83     62695\n",
      "weighted avg       1.00      1.00      0.99     62695\n",
      "\n"
     ]
    }
   ],
   "source": [
    "print(classification_report(y_train,y_train_pred))"
   ]
  },
  {
   "cell_type": "code",
   "execution_count": 99,
   "id": "70bad819",
   "metadata": {},
   "outputs": [
    {
     "name": "stdout",
     "output_type": "stream",
     "text": [
      "0.7538190983277704\n"
     ]
    }
   ],
   "source": [
    "print(roc_auc_score(y_train, y_train_pred))"
   ]
  },
  {
   "cell_type": "markdown",
   "id": "519105bd",
   "metadata": {},
   "source": [
    "### Deal with imbalanced data"
   ]
  },
  {
   "cell_type": "code",
   "execution_count": 228,
   "id": "f0563e0c",
   "metadata": {},
   "outputs": [
    {
     "data": {
      "text/plain": [
       "0    77640\n",
       "1      729\n",
       "Name: redemption_status, dtype: int64"
      ]
     },
     "execution_count": 228,
     "metadata": {},
     "output_type": "execute_result"
    }
   ],
   "source": [
    "train_fre['redemption_status'].value_counts()"
   ]
  },
  {
   "cell_type": "code",
   "execution_count": 81,
   "id": "b751399d",
   "metadata": {},
   "outputs": [],
   "source": [
    "train_fre.drop(axis=1, columns='category', inplace=True)"
   ]
  },
  {
   "cell_type": "code",
   "execution_count": 82,
   "id": "df70cd27",
   "metadata": {},
   "outputs": [],
   "source": [
    "weights = [0.1, 1, 10, 50, 100, 1000]\n",
    "param_grid = dict(scale_pos_weight = weights)"
   ]
  },
  {
   "cell_type": "code",
   "execution_count": 83,
   "id": "b1507c1b",
   "metadata": {},
   "outputs": [],
   "source": [
    "from sklearn.model_selection import GridSearchCV\n",
    "xgb_grid = GridSearchCV(estimator=xgb, param_grid = param_grid, n_jobs=-1, cv=5, scoring='roc_auc')"
   ]
  },
  {
   "cell_type": "code",
   "execution_count": 89,
   "id": "bceffce9",
   "metadata": {},
   "outputs": [
    {
     "data": {
      "text/plain": [
       "GridSearchCV(cv=5,\n",
       "             estimator=XGBClassifier(base_score=None, booster=None,\n",
       "                                     callbacks=None, colsample_bylevel=None,\n",
       "                                     colsample_bynode=None,\n",
       "                                     colsample_bytree=None,\n",
       "                                     early_stopping_rounds=None,\n",
       "                                     enable_categorical=False, eval_metric=None,\n",
       "                                     gamma=None, gpu_id=None, grow_policy=None,\n",
       "                                     importance_type=None,\n",
       "                                     interaction_constraints=None,\n",
       "                                     learning_rate=None, max_bin=None,\n",
       "                                     max_cat_to_onehot=None,\n",
       "                                     max_delta_step=None, max_depth=None,\n",
       "                                     max_leaves=None, min_child_weight=None,\n",
       "                                     missing=nan, monotone_constraints=None,\n",
       "                                     n_estimators=100, n_jobs=None,\n",
       "                                     num_parallel_tree=None, predictor=None,\n",
       "                                     random_state=None, reg_alpha=None,\n",
       "                                     reg_lambda=None, ...),\n",
       "             n_jobs=-1,\n",
       "             param_grid={'scale_pos_weight': [0.1, 1, 10, 50, 100, 1000]},\n",
       "             scoring='roc_auc')"
      ]
     },
     "execution_count": 89,
     "metadata": {},
     "output_type": "execute_result"
    }
   ],
   "source": [
    "xgb_grid.fit(X_train, y_train)"
   ]
  },
  {
   "cell_type": "code",
   "execution_count": 91,
   "id": "4117636e",
   "metadata": {},
   "outputs": [
    {
     "data": {
      "text/plain": [
       "0.9293928911222379"
      ]
     },
     "execution_count": 91,
     "metadata": {},
     "output_type": "execute_result"
    }
   ],
   "source": [
    "xgb_grid.best_score_"
   ]
  },
  {
   "cell_type": "code",
   "execution_count": 90,
   "id": "b220c62d",
   "metadata": {},
   "outputs": [
    {
     "data": {
      "text/plain": [
       "{'scale_pos_weight': 1}"
      ]
     },
     "execution_count": 90,
     "metadata": {},
     "output_type": "execute_result"
    }
   ],
   "source": [
    "xgb_grid.best_params_"
   ]
  },
  {
   "cell_type": "code",
   "execution_count": 100,
   "id": "ce2b44ab",
   "metadata": {},
   "outputs": [],
   "source": [
    "y_test_pred = xgb_grid.predict(X_test)"
   ]
  },
  {
   "cell_type": "code",
   "execution_count": 101,
   "id": "fa0e2395",
   "metadata": {},
   "outputs": [
    {
     "name": "stdout",
     "output_type": "stream",
     "text": [
      "0.5405806920595936\n"
     ]
    }
   ],
   "source": [
    "print(roc_auc_score(y_test, y_test_pred))"
   ]
  },
  {
   "cell_type": "code",
   "execution_count": 102,
   "id": "acafe482",
   "metadata": {},
   "outputs": [
    {
     "name": "stdout",
     "output_type": "stream",
     "text": [
      "              precision    recall  f1-score   support\n",
      "\n",
      "           0       0.99      1.00      1.00     15528\n",
      "           1       0.43      0.08      0.14       146\n",
      "\n",
      "    accuracy                           0.99     15674\n",
      "   macro avg       0.71      0.54      0.57     15674\n",
      "weighted avg       0.99      0.99      0.99     15674\n",
      "\n"
     ]
    }
   ],
   "source": [
    "print(classification_report(y_test, y_test_pred))"
   ]
  },
  {
   "cell_type": "markdown",
   "id": "d336e758",
   "metadata": {},
   "source": [
    "## Over_Sampling "
   ]
  },
  {
   "cell_type": "code",
   "execution_count": 72,
   "id": "31aab11d",
   "metadata": {},
   "outputs": [],
   "source": [
    "from imblearn.over_sampling import RandomOverSampler\n",
    "from imblearn.over_sampling import SMOTE\n",
    "from imblearn.over_sampling import BorderlineSMOTE\n",
    "from imblearn.over_sampling import SVMSMOTE\n",
    "from imblearn.over_sampling import ADASYN\n",
    "from imblearn.pipeline import Pipeline"
   ]
  },
  {
   "cell_type": "code",
   "execution_count": 124,
   "id": "09355f82",
   "metadata": {},
   "outputs": [],
   "source": [
    "X.drop(axis=1, columns='Unnamed: 0', inplace=True)"
   ]
  },
  {
   "cell_type": "code",
   "execution_count": 125,
   "id": "33e6dc1c",
   "metadata": {},
   "outputs": [],
   "source": [
    "smote = SMOTE(random_state=42)\n",
    "X_res, y_res = smote.fit_resample(X, y)\n",
    "\n",
    "X_train_s, X_test_s, y_train, y_test = train_test_split(X_res, y_res, test_size=0.2, random_state=2022)"
   ]
  },
  {
   "cell_type": "code",
   "execution_count": 126,
   "id": "afcbdd28",
   "metadata": {},
   "outputs": [],
   "source": [
    "xgb.fit(X_train_s, y_train)\n",
    "y_train_pred = xgb.predict(X_train_s)\n",
    "y_test_pred = xgb.predict(X_test_s)"
   ]
  },
  {
   "cell_type": "code",
   "execution_count": 127,
   "id": "08d20beb",
   "metadata": {},
   "outputs": [
    {
     "name": "stdout",
     "output_type": "stream",
     "text": [
      "              precision    recall  f1-score   support\n",
      "\n",
      "           0       0.99      0.99      0.99     15534\n",
      "           1       0.99      0.99      0.99     15522\n",
      "\n",
      "    accuracy                           0.99     31056\n",
      "   macro avg       0.99      0.99      0.99     31056\n",
      "weighted avg       0.99      0.99      0.99     31056\n",
      "\n"
     ]
    }
   ],
   "source": [
    "print(classification_report(y_test,y_test_pred))"
   ]
  },
  {
   "cell_type": "code",
   "execution_count": 128,
   "id": "1641b371",
   "metadata": {},
   "outputs": [
    {
     "name": "stdout",
     "output_type": "stream",
     "text": [
      "              precision    recall  f1-score   support\n",
      "\n",
      "           0       1.00      0.99      0.99     62106\n",
      "           1       0.99      1.00      0.99     62118\n",
      "\n",
      "    accuracy                           0.99    124224\n",
      "   macro avg       0.99      0.99      0.99    124224\n",
      "weighted avg       0.99      0.99      0.99    124224\n",
      "\n"
     ]
    }
   ],
   "source": [
    "print(classification_report(y_train,y_train_pred))"
   ]
  },
  {
   "cell_type": "code",
   "execution_count": 129,
   "id": "6b16fb0b",
   "metadata": {},
   "outputs": [
    {
     "name": "stdout",
     "output_type": "stream",
     "text": [
      "0.9901483728672977\n"
     ]
    }
   ],
   "source": [
    "print(roc_auc_score(y_test,y_test_pred))"
   ]
  },
  {
   "cell_type": "code",
   "execution_count": 130,
   "id": "f43c25a1",
   "metadata": {},
   "outputs": [
    {
     "name": "stdout",
     "output_type": "stream",
     "text": [
      "0.9937771140157149\n"
     ]
    }
   ],
   "source": [
    "print(roc_auc_score(y_train,y_train_pred))"
   ]
  },
  {
   "cell_type": "markdown",
   "id": "8368ab2f",
   "metadata": {},
   "source": [
    "## Selection features "
   ]
  },
  {
   "cell_type": "markdown",
   "id": "7729e3bc",
   "metadata": {},
   "source": [
    "## ANOVA for numerical features"
   ]
  },
  {
   "cell_type": "code",
   "execution_count": 238,
   "id": "81ddfcff",
   "metadata": {},
   "outputs": [],
   "source": [
    "def select_features(X_train, y_train, X_test):\n",
    "    fs = SelectKBest(score_func = f_classif, k ='all')\n",
    "    fs.fit(X_train, y_train)\n",
    "    X_train_fs = fs.transform(X_train)\n",
    "    X_test_fs = fs.transform(X_test)\n",
    "    return X_train_fs, X_test_fs, fs"
   ]
  },
  {
   "cell_type": "code",
   "execution_count": 242,
   "id": "ed94ad62",
   "metadata": {},
   "outputs": [],
   "source": [
    "numerical_features = ['cust_quantity','cust_other_usage', 'cust_coupon_usage', 'items_quantity', 'camp_duration',\n",
    "                     'camp_start_month', 'camp_end_month']"
   ]
  },
  {
   "cell_type": "code",
   "execution_count": 245,
   "id": "959734dc",
   "metadata": {},
   "outputs": [],
   "source": [
    "X_train_num = X_train[numerical_features]\n",
    "X_test_num = X_test[numerical_features]"
   ]
  },
  {
   "cell_type": "code",
   "execution_count": 246,
   "id": "cdc1bb04",
   "metadata": {},
   "outputs": [
    {
     "name": "stdout",
     "output_type": "stream",
     "text": [
      "Feature 0: 116.917942\n",
      "Feature 1: 296.362038\n",
      "Feature 2: 1460.928784\n",
      "Feature 3: 352.741088\n",
      "Feature 4: 8.436281\n",
      "Feature 5: 0.929342\n",
      "Feature 6: 10.699275\n"
     ]
    },
    {
     "data": {
      "image/png": "[encoded data removed]",
      "text/plain": [
       "<Figure size 432x288 with 1 Axes>"
      ]
     },
     "metadata": {
      "needs_background": "light"
     },
     "output_type": "display_data"
    }
   ],
   "source": [
    "X_train_fs, X_test_fs, fs = select_features(X_train_num, y_train, X_test_num)\n",
    "for i in range(len(fs.scores_)):\n",
    "    print('Feature %d: %f' % (i, fs.scores_[i]))\n",
    "plt.bar([i for i in range(len(fs.scores_))], fs.scores_)\n",
    "plt.show()"
   ]
  },
  {
   "cell_type": "code",
   "execution_count": 247,
   "id": "ddfd9055",
   "metadata": {},
   "outputs": [
    {
     "name": "stdout",
     "output_type": "stream",
     "text": [
      "<class 'pandas.core.frame.DataFrame'>\n",
      "Int64Index: 62695 entries, 40661 to 73567\n",
      "Data columns (total 7 columns):\n",
      " #   Column             Non-Null Count  Dtype\n",
      "---  ------             --------------  -----\n",
      " 0   cust_quantity      62695 non-null  int64\n",
      " 1   cust_other_usage   62695 non-null  int64\n",
      " 2   cust_coupon_usage  62695 non-null  int64\n",
      " 3   items_quantity     62695 non-null  int64\n",
      " 4   camp_duration      62695 non-null  int64\n",
      " 5   camp_start_month   62695 non-null  int64\n",
      " 6   camp_end_month     62695 non-null  int64\n",
      "dtypes: int64(7)\n",
      "memory usage: 3.8 MB\n"
     ]
    }
   ],
   "source": [
    "X_train_num.info()"
   ]
  },
  {
   "cell_type": "markdown",
   "id": "d733466a",
   "metadata": {},
   "source": [
    "## Selected numerical features: cust_quantity, cust_other_usage, cust_coupon_usage, item_quantity"
   ]
  },
  {
   "cell_type": "code",
   "execution_count": 250,
   "id": "7e6f7920",
   "metadata": {},
   "outputs": [],
   "source": [
    "## Categorical features for Chi2\n",
    "cat_features = ['age_range', 'marital_status', 'rented', 'family_size', 'no_of_children', 'income_bracket', 'camp_type',\n",
    "               'holiday_covered', 'brand_type', 'Grocery', 'Pharmaceutical', 'Miscellaneous', 'Food', 'Drink', \n",
    "                'Natural Products', 'Garden', 'Skin & Hair Care']\n",
    "X_train_cat = X_train[cat_features]\n",
    "X_test_cat = X_test[cat_features]"
   ]
  },
  {
   "cell_type": "code",
   "execution_count": 251,
   "id": "cf3179af",
   "metadata": {},
   "outputs": [
    {
     "name": "stdout",
     "output_type": "stream",
     "text": [
      "Feature 0: 7.972519\n",
      "Feature 1: 9.870759\n",
      "Feature 2: 1.480327\n",
      "Feature 3: 15.545695\n",
      "Feature 4: 45.201387\n",
      "Feature 5: 3.154700\n",
      "Feature 6: 52.629926\n",
      "Feature 7: 8.203711\n",
      "Feature 8: 258.827612\n",
      "Feature 9: 91.438327\n",
      "Feature 10: 42.882223\n",
      "Feature 11: 94.646266\n",
      "Feature 12: 83.353528\n",
      "Feature 13: 39.706006\n",
      "Feature 14: 78.977490\n",
      "Feature 15: 0.657125\n",
      "Feature 16: 0.039258\n"
     ]
    },
    {
     "data": {
      "image/png": "[encoded data removed]",
      "text/plain": [
       "<Figure size 432x288 with 1 Axes>"
      ]
     },
     "metadata": {
      "needs_background": "light"
     },
     "output_type": "display_data"
    }
   ],
   "source": [
    "fs = SelectKBest(score_func=chi2, k='all')\n",
    "fs.fit(X_train_cat, y_train)\n",
    "X_train_fs = fs.transform(X_train_cat)\n",
    "X_test_fs = fs.transform(X_test_cat)\n",
    "X_train_fs, X_test_fs, fs = select_features(X_train_fs, y_train, X_test_fs)\n",
    "for i in range(len(fs.scores_)):\n",
    "    print('Feature %d: %f' % (i, fs.scores_[i]))\n",
    "plt.bar([i for i in range(len(fs.scores_))], fs.scores_)\n",
    "plt.show()"
   ]
  },
  {
   "cell_type": "code",
   "execution_count": 252,
   "id": "4024278c",
   "metadata": {},
   "outputs": [
    {
     "name": "stdout",
     "output_type": "stream",
     "text": [
      "<class 'pandas.core.frame.DataFrame'>\n",
      "Int64Index: 62695 entries, 40661 to 73567\n",
      "Data columns (total 17 columns):\n",
      " #   Column            Non-Null Count  Dtype\n",
      "---  ------            --------------  -----\n",
      " 0   age_range         62695 non-null  int64\n",
      " 1   marital_status    62695 non-null  int64\n",
      " 2   rented            62695 non-null  int32\n",
      " 3   family_size       62695 non-null  int64\n",
      " 4   no_of_children    62695 non-null  int64\n",
      " 5   income_bracket    62695 non-null  int32\n",
      " 6   camp_type         62695 non-null  int64\n",
      " 7   holiday_covered   62695 non-null  int64\n",
      " 8   brand_type        62695 non-null  int64\n",
      " 9   Grocery           62695 non-null  int32\n",
      " 10  Pharmaceutical    62695 non-null  int32\n",
      " 11  Miscellaneous     62695 non-null  int32\n",
      " 12  Food              62695 non-null  int32\n",
      " 13  Drink             62695 non-null  int32\n",
      " 14  Natural Products  62695 non-null  int32\n",
      " 15  Garden            62695 non-null  int32\n",
      " 16  Skin & Hair Care  62695 non-null  int32\n",
      "dtypes: int32(10), int64(7)\n",
      "memory usage: 6.2 MB\n"
     ]
    }
   ],
   "source": [
    "X_train_cat.info()"
   ]
  },
  {
   "cell_type": "markdown",
   "id": "557d9798",
   "metadata": {},
   "source": [
    "## Seleted categorical features: family_size, no_of_children, camp_type, brand_type, Grocery, Pharmaceutical, Miscellaneous, Food, Drink, Natural Products"
   ]
  },
  {
   "cell_type": "code",
   "execution_count": 115,
   "id": "b46c39dc",
   "metadata": {},
   "outputs": [],
   "source": [
    "features_updated = ['cust_quantity', 'cust_other_usage', 'cust_coupon_usage', 'items_quantity', 'family_size', \n",
    "                    'no_of_children', 'camp_type', 'brand_type', 'Grocery', 'Pharmaceutical', 'Miscellaneous', 'Food', \n",
    "                    'Drink', 'Natural Products']\n",
    "X_updated = train_fre[features_updated]"
   ]
  },
  {
   "cell_type": "code",
   "execution_count": 257,
   "id": "012aaf9d",
   "metadata": {},
   "outputs": [],
   "source": [
    "X_train_u, X_test_u, y_train, y_test = train_test_split(X_updated, y, test_size=0.2, random_state=2022, stratify=y)"
   ]
  },
  {
   "cell_type": "code",
   "execution_count": 258,
   "id": "3ebb13ef",
   "metadata": {},
   "outputs": [
    {
     "data": {
      "text/plain": [
       "GridSearchCV(cv=5,\n",
       "             estimator=XGBClassifier(base_score=0.5, booster='gbtree',\n",
       "                                     callbacks=None, colsample_bylevel=1,\n",
       "                                     colsample_bynode=1, colsample_bytree=1,\n",
       "                                     early_stopping_rounds=None,\n",
       "                                     enable_categorical=False, eval_metric=None,\n",
       "                                     gamma=0, gpu_id=-1,\n",
       "                                     grow_policy='depthwise',\n",
       "                                     importance_type=None,\n",
       "                                     interaction_constraints='',\n",
       "                                     learning_rate=0.300000012, max_bin=256,\n",
       "                                     max_cat_to_onehot=4, max_delta_step=0,\n",
       "                                     max_depth=6, max_leaves=0,\n",
       "                                     min_child_weight=1, missing=nan,\n",
       "                                     monotone_constraints='()',\n",
       "                                     n_estimators=100, n_jobs=0,\n",
       "                                     num_parallel_tree=1, predictor='auto',\n",
       "                                     random_state=0, reg_alpha=0, reg_lambda=1, ...),\n",
       "             n_jobs=-1, param_grid={'scale_pos_weight': [1, 10, 50, 100, 1000]},\n",
       "             scoring='roc_auc')"
      ]
     },
     "execution_count": 258,
     "metadata": {},
     "output_type": "execute_result"
    }
   ],
   "source": [
    "xgb_grid.fit(X_train_u, y_train)"
   ]
  },
  {
   "cell_type": "code",
   "execution_count": 259,
   "id": "ea7dee15",
   "metadata": {},
   "outputs": [
    {
     "name": "stdout",
     "output_type": "stream",
     "text": [
      "              precision    recall  f1-score   support\n",
      "\n",
      "           0       0.99      1.00      1.00     15528\n",
      "           1       0.39      0.09      0.15       146\n",
      "\n",
      "    accuracy                           0.99     15674\n",
      "   macro avg       0.69      0.54      0.57     15674\n",
      "weighted avg       0.99      0.99      0.99     15674\n",
      "\n"
     ]
    }
   ],
   "source": [
    "y_test_pred = xgb_grid.predict(X_test_u)\n",
    "print(classification_report(y_test, y_test_pred))"
   ]
  },
  {
   "cell_type": "code",
   "execution_count": 261,
   "id": "0c645c8c",
   "metadata": {},
   "outputs": [
    {
     "name": "stdout",
     "output_type": "stream",
     "text": [
      "0.5438765500059988\n"
     ]
    }
   ],
   "source": [
    "print(roc_auc_score(y_test, y_test_pred))"
   ]
  },
  {
   "cell_type": "markdown",
   "id": "2d212907",
   "metadata": {},
   "source": [
    "## Using SMOTE"
   ]
  },
  {
   "cell_type": "code",
   "execution_count": 116,
   "id": "37b14f59",
   "metadata": {},
   "outputs": [],
   "source": [
    "smote = SMOTE(random_state=42)\n",
    "X_res_u, y_res_u = smote.fit_resample(X_updated, y)\n",
    "\n",
    "X_train_su, X_test_su, y_train, y_test = train_test_split(X_res_u, y_res_u, test_size=0.2, random_state=2022)"
   ]
  },
  {
   "cell_type": "code",
   "execution_count": 117,
   "id": "ffcc63dc",
   "metadata": {},
   "outputs": [],
   "source": [
    "xgb.fit(X_train_su, y_train)\n",
    "y_train_pred = xgb.predict(X_train_su)\n",
    "y_test_pred = xgb.predict(X_test_su)"
   ]
  },
  {
   "cell_type": "code",
   "execution_count": 118,
   "id": "31ca59a5",
   "metadata": {},
   "outputs": [
    {
     "name": "stdout",
     "output_type": "stream",
     "text": [
      "              precision    recall  f1-score   support\n",
      "\n",
      "           0       0.99      0.97      0.98     15534\n",
      "           1       0.97      0.99      0.98     15522\n",
      "\n",
      "    accuracy                           0.98     31056\n",
      "   macro avg       0.98      0.98      0.98     31056\n",
      "weighted avg       0.98      0.98      0.98     31056\n",
      "\n"
     ]
    }
   ],
   "source": [
    "print(classification_report(y_test,y_test_pred))"
   ]
  },
  {
   "cell_type": "code",
   "execution_count": 119,
   "id": "850f7367",
   "metadata": {},
   "outputs": [
    {
     "name": "stdout",
     "output_type": "stream",
     "text": [
      "0.978527455691666\n"
     ]
    }
   ],
   "source": [
    "print(roc_auc_score(y_test,y_test_pred))"
   ]
  },
  {
   "cell_type": "code",
   "execution_count": 120,
   "id": "709fa761",
   "metadata": {},
   "outputs": [
    {
     "name": "stdout",
     "output_type": "stream",
     "text": [
      "              precision    recall  f1-score   support\n",
      "\n",
      "           0       0.99      0.97      0.98     62106\n",
      "           1       0.97      0.99      0.98     62118\n",
      "\n",
      "    accuracy                           0.98    124224\n",
      "   macro avg       0.98      0.98      0.98    124224\n",
      "weighted avg       0.98      0.98      0.98    124224\n",
      "\n"
     ]
    }
   ],
   "source": [
    "print(classification_report(y_train,y_train_pred))"
   ]
  },
  {
   "cell_type": "code",
   "execution_count": 121,
   "id": "c7a192ef",
   "metadata": {},
   "outputs": [
    {
     "name": "stdout",
     "output_type": "stream",
     "text": [
      "0.982176170210349\n"
     ]
    }
   ],
   "source": [
    "print(roc_auc_score(y_train,y_train_pred))"
   ]
  },
  {
   "cell_type": "code",
   "execution_count": null,
   "id": "ec18e53c",
   "metadata": {},
   "outputs": [],
   "source": []
  }
 ],
 "metadata": {
  "kernelspec": {
   "display_name": "Python 3",
   "language": "python",
   "name": "python3"
  },
  "language_info": {
   "codemirror_mode": {
    "name": "ipython",
    "version": 3
   },
   "file_extension": ".py",
   "mimetype": "text/x-python",
   "name": "python",
   "nbconvert_exporter": "python",
   "pygments_lexer": "ipython3",
   "version": "3.8.8"
  },
  "toc": {
   "base_numbering": 1,
   "nav_menu": {},
   "number_sections": true,
   "sideBar": true,
   "skip_h1_title": false,
   "title_cell": "Table of Contents",
   "title_sidebar": "Contents",
   "toc_cell": false,
   "toc_position": {},
   "toc_section_display": true,
   "toc_window_display": false
  }
 },
 "nbformat": 4,
 "nbformat_minor": 5
}
